{
 "cells": [
  {
   "cell_type": "code",
   "execution_count": 1,
   "id": "ffde36fd",
   "metadata": {
    "_cell_guid": "b1076dfc-b9ad-4769-8c92-a6c4dae69d19",
    "_uuid": "8f2839f25d086af736a60e9eeb907d3b93b6e0e5",
    "execution": {
     "iopub.execute_input": "2022-12-29T18:01:10.139136Z",
     "iopub.status.busy": "2022-12-29T18:01:10.138313Z",
     "iopub.status.idle": "2022-12-29T18:01:11.472090Z",
     "shell.execute_reply": "2022-12-29T18:01:11.468799Z"
    },
    "papermill": {
     "duration": 1.383739,
     "end_time": "2022-12-29T18:01:11.477194",
     "exception": false,
     "start_time": "2022-12-29T18:01:10.093455",
     "status": "completed"
    },
    "tags": []
   },
   "outputs": [
    {
     "name": "stderr",
     "output_type": "stream",
     "text": [
      "/opt/anaconda3/lib/python3.9/site-packages/scipy/__init__.py:146: UserWarning: A NumPy version >=1.16.5 and <1.23.0 is required for this version of SciPy (detected version 1.23.5\n",
      "  warnings.warn(f\"A NumPy version >={np_minversion} and <{np_maxversion}\"\n"
     ]
    }
   ],
   "source": [
    "import numpy as np \n",
    "import pandas as pd \n",
    "import matplotlib.pyplot as plt\n",
    "import matplotlib.gridspec as gridspec\n",
    "import seaborn as sns\n",
    "%matplotlib inline\n",
    "\n",
    "import warnings\n",
    "warnings.simplefilter('ignore', UserWarning)\n",
    "\n",
    "import gc\n",
    "gc.enable()\n",
    "\n",
    "import os\n",
    "import mlflow\n",
    "import mlflow.sklearn\n",
    "import mlflow.lightgbm\n",
    "from sklearn.metrics import f1_score\n",
    "from imblearn.over_sampling import SMOTE\n",
    "from imblearn.over_sampling import SMOTENC\n",
    "import shap\n",
    "import pickle\n",
    "import requests\n",
    "import json\n",
    "from flask import Flask"
   ]
  },
  {
   "cell_type": "code",
   "execution_count": 2,
   "id": "807f3b90",
   "metadata": {},
   "outputs": [],
   "source": [
    "mlflow.set_tracking_uri('http://localhost:5000')"
   ]
  },
  {
   "cell_type": "code",
   "execution_count": 3,
   "id": "ce4eca54",
   "metadata": {},
   "outputs": [
    {
     "data": {
      "text/plain": [
       "'http://localhost:5000'"
      ]
     },
     "execution_count": 3,
     "metadata": {},
     "output_type": "execute_result"
    }
   ],
   "source": [
    "mlflow.get_tracking_uri()"
   ]
  },
  {
   "cell_type": "code",
   "execution_count": null,
   "id": "88327565",
   "metadata": {},
   "outputs": [],
   "source": [
    "mlflow.set_experiment('home-credit-default-risk')"
   ]
  },
  {
   "cell_type": "code",
   "execution_count": null,
   "id": "329bfccf",
   "metadata": {
    "execution": {
     "iopub.execute_input": "2022-12-29T18:01:11.551338Z",
     "iopub.status.busy": "2022-12-29T18:01:11.550871Z",
     "iopub.status.idle": "2022-12-29T18:01:11.559444Z",
     "shell.execute_reply": "2022-12-29T18:01:11.557842Z"
    },
    "papermill": {
     "duration": 0.04852,
     "end_time": "2022-12-29T18:01:11.562610",
     "exception": false,
     "start_time": "2022-12-29T18:01:11.514090",
     "status": "completed"
    },
    "tags": []
   },
   "outputs": [],
   "source": [
    "print(os.listdir('Projet+Mise+en+prod+-+home-credit-default-risk'))"
   ]
  },
  {
   "cell_type": "code",
   "execution_count": null,
   "id": "396368f9",
   "metadata": {},
   "outputs": [],
   "source": []
  },
  {
   "cell_type": "markdown",
   "id": "48bb41aa",
   "metadata": {
    "papermill": {
     "duration": 0.035727,
     "end_time": "2022-12-29T18:01:11.633898",
     "exception": false,
     "start_time": "2022-12-29T18:01:11.598171",
     "status": "completed"
    },
    "tags": []
   },
   "source": [
    "# lecture data"
   ]
  },
  {
   "cell_type": "code",
   "execution_count": null,
   "id": "848622b9",
   "metadata": {
    "execution": {
     "iopub.execute_input": "2022-12-29T18:01:11.709434Z",
     "iopub.status.busy": "2022-12-29T18:01:11.708339Z",
     "iopub.status.idle": "2022-12-29T18:01:43.410320Z",
     "shell.execute_reply": "2022-12-29T18:01:43.409092Z"
    },
    "papermill": {
     "duration": 31.743167,
     "end_time": "2022-12-29T18:01:43.414088",
     "exception": false,
     "start_time": "2022-12-29T18:01:11.670921",
     "status": "completed"
    },
    "tags": []
   },
   "outputs": [],
   "source": [
    "\n",
    "df_train = pd.read_csv(\"Projet+Mise+en+prod+-+home-credit-default-risk/application_train.csv\")\n",
    "\n",
    "df_test = pd.read_csv(\"Projet+Mise+en+prod+-+home-credit-default-risk/application_test.csv\")\n",
    "\n",
    "\n",
    "df_bureau = pd.read_csv(\"Projet+Mise+en+prod+-+home-credit-default-risk/bureau.csv\")\n",
    "df_previous_application = pd.read_csv(\"Projet+Mise+en+prod+-+home-credit-default-risk/previous_application.csv\")\n",
    "\n",
    "df_coldesc = pd.read_csv(\"Projet+Mise+en+prod+-+home-credit-default-risk/HomeCredit_columns_description.csv\",encoding='unicode_escape')\n"
   ]
  },
  {
   "cell_type": "code",
   "execution_count": null,
   "id": "626e55a6",
   "metadata": {
    "execution": {
     "iopub.execute_input": "2022-12-29T18:01:43.489875Z",
     "iopub.status.busy": "2022-12-29T18:01:43.489373Z",
     "iopub.status.idle": "2022-12-29T18:01:43.496064Z",
     "shell.execute_reply": "2022-12-29T18:01:43.495038Z"
    },
    "papermill": {
     "duration": 0.048024,
     "end_time": "2022-12-29T18:01:43.499864",
     "exception": false,
     "start_time": "2022-12-29T18:01:43.451840",
     "status": "completed"
    },
    "tags": []
   },
   "outputs": [],
   "source": [
    "print(f\" The shape of the Train data = {df_train.shape}\")\n",
    "print(f\" The shape of the bureau data = {df_bureau.shape}\")\n",
    "print(f\" The shape of the previous_application data = {df_previous_application.shape}\")"
   ]
  },
  {
   "cell_type": "code",
   "execution_count": null,
   "id": "5e13381e",
   "metadata": {
    "execution": {
     "iopub.execute_input": "2022-12-29T18:01:43.573901Z",
     "iopub.status.busy": "2022-12-29T18:01:43.573465Z",
     "iopub.status.idle": "2022-12-29T18:01:43.603959Z",
     "shell.execute_reply": "2022-12-29T18:01:43.602631Z"
    },
    "papermill": {
     "duration": 0.069876,
     "end_time": "2022-12-29T18:01:43.606682",
     "exception": false,
     "start_time": "2022-12-29T18:01:43.536806",
     "status": "completed"
    },
    "tags": []
   },
   "outputs": [],
   "source": [
    "df_train[\"SK_ID_CURR\"].nunique()"
   ]
  },
  {
   "cell_type": "code",
   "execution_count": null,
   "id": "99356e0e",
   "metadata": {
    "execution": {
     "iopub.execute_input": "2022-12-29T18:01:43.688466Z",
     "iopub.status.busy": "2022-12-29T18:01:43.687764Z",
     "iopub.status.idle": "2022-12-29T18:01:43.789125Z",
     "shell.execute_reply": "2022-12-29T18:01:43.787124Z"
    },
    "papermill": {
     "duration": 0.145408,
     "end_time": "2022-12-29T18:01:43.792785",
     "exception": false,
     "start_time": "2022-12-29T18:01:43.647377",
     "status": "completed"
    },
    "tags": []
   },
   "outputs": [],
   "source": [
    "print(f\"uniques dans Train data = {df_train.SK_ID_CURR.nunique()}\")\n",
    "print(f\"uniques dans bureau data = {df_bureau.SK_ID_CURR.nunique()}\")\n",
    "print(f\"uniques dans previous_application data = {df_previous_application.SK_ID_CURR.nunique()}\")"
   ]
  },
  {
   "cell_type": "code",
   "execution_count": null,
   "id": "a6ea2c0d",
   "metadata": {},
   "outputs": [],
   "source": [
    "df_coldesc"
   ]
  },
  {
   "cell_type": "code",
   "execution_count": null,
   "id": "803254f2",
   "metadata": {
    "execution": {
     "iopub.execute_input": "2022-12-29T18:01:43.869113Z",
     "iopub.status.busy": "2022-12-29T18:01:43.868647Z",
     "iopub.status.idle": "2022-12-29T18:01:43.896843Z",
     "shell.execute_reply": "2022-12-29T18:01:43.895040Z"
    },
    "papermill": {
     "duration": 0.07078,
     "end_time": "2022-12-29T18:01:43.900750",
     "exception": false,
     "start_time": "2022-12-29T18:01:43.829970",
     "status": "completed"
    },
    "tags": []
   },
   "outputs": [],
   "source": [
    "df_coldesc.loc[(df_coldesc[\"Table\"] == 'application_{train|test}.csv')]"
   ]
  },
  {
   "cell_type": "code",
   "execution_count": null,
   "id": "a3e1ebb1",
   "metadata": {
    "execution": {
     "iopub.execute_input": "2022-12-29T18:01:43.979094Z",
     "iopub.status.busy": "2022-12-29T18:01:43.978556Z",
     "iopub.status.idle": "2022-12-29T18:01:44.013347Z",
     "shell.execute_reply": "2022-12-29T18:01:44.011743Z"
    },
    "papermill": {
     "duration": 0.076957,
     "end_time": "2022-12-29T18:01:44.016207",
     "exception": false,
     "start_time": "2022-12-29T18:01:43.939250",
     "status": "completed"
    },
    "tags": []
   },
   "outputs": [],
   "source": [
    "df_train.head()"
   ]
  },
  {
   "cell_type": "code",
   "execution_count": null,
   "id": "67df3491",
   "metadata": {
    "execution": {
     "iopub.execute_input": "2022-12-29T18:01:44.095937Z",
     "iopub.status.busy": "2022-12-29T18:01:44.094645Z",
     "iopub.status.idle": "2022-12-29T18:01:44.120222Z",
     "shell.execute_reply": "2022-12-29T18:01:44.118406Z"
    },
    "papermill": {
     "duration": 0.069953,
     "end_time": "2022-12-29T18:01:44.123327",
     "exception": false,
     "start_time": "2022-12-29T18:01:44.053374",
     "status": "completed"
    },
    "tags": []
   },
   "outputs": [],
   "source": [
    "df_bureau.head()"
   ]
  },
  {
   "cell_type": "code",
   "execution_count": null,
   "id": "b5bbf761",
   "metadata": {
    "execution": {
     "iopub.execute_input": "2022-12-29T18:01:44.199197Z",
     "iopub.status.busy": "2022-12-29T18:01:44.198588Z",
     "iopub.status.idle": "2022-12-29T18:01:44.233637Z",
     "shell.execute_reply": "2022-12-29T18:01:44.232335Z"
    },
    "papermill": {
     "duration": 0.076174,
     "end_time": "2022-12-29T18:01:44.236254",
     "exception": false,
     "start_time": "2022-12-29T18:01:44.160080",
     "status": "completed"
    },
    "tags": []
   },
   "outputs": [],
   "source": [
    "df_previous_application.head()"
   ]
  },
  {
   "cell_type": "code",
   "execution_count": null,
   "id": "3065a913",
   "metadata": {
    "execution": {
     "iopub.execute_input": "2022-12-29T18:01:44.400639Z",
     "iopub.status.busy": "2022-12-29T18:01:44.400193Z",
     "iopub.status.idle": "2022-12-29T18:01:44.409197Z",
     "shell.execute_reply": "2022-12-29T18:01:44.407577Z"
    },
    "papermill": {
     "duration": 0.052303,
     "end_time": "2022-12-29T18:01:44.411659",
     "exception": false,
     "start_time": "2022-12-29T18:01:44.359356",
     "status": "completed"
    },
    "tags": []
   },
   "outputs": [],
   "source": [
    "df_train.columns.values"
   ]
  },
  {
   "cell_type": "code",
   "execution_count": null,
   "id": "086e4ffb",
   "metadata": {
    "execution": {
     "iopub.execute_input": "2022-12-29T18:01:44.490581Z",
     "iopub.status.busy": "2022-12-29T18:01:44.489896Z",
     "iopub.status.idle": "2022-12-29T18:01:44.498149Z",
     "shell.execute_reply": "2022-12-29T18:01:44.496745Z"
    },
    "papermill": {
     "duration": 0.051164,
     "end_time": "2022-12-29T18:01:44.501184",
     "exception": false,
     "start_time": "2022-12-29T18:01:44.450020",
     "status": "completed"
    },
    "tags": []
   },
   "outputs": [],
   "source": [
    "df_previous_application.columns.values"
   ]
  },
  {
   "cell_type": "code",
   "execution_count": null,
   "id": "e2aea705",
   "metadata": {
    "execution": {
     "iopub.execute_input": "2022-12-29T18:01:44.579837Z",
     "iopub.status.busy": "2022-12-29T18:01:44.579391Z",
     "iopub.status.idle": "2022-12-29T18:01:44.609725Z",
     "shell.execute_reply": "2022-12-29T18:01:44.608211Z"
    },
    "papermill": {
     "duration": 0.073349,
     "end_time": "2022-12-29T18:01:44.612460",
     "exception": false,
     "start_time": "2022-12-29T18:01:44.539111",
     "status": "completed"
    },
    "tags": []
   },
   "outputs": [],
   "source": [
    "df_train[df_train[\"SK_ID_CURR\"] == 271877]"
   ]
  },
  {
   "cell_type": "code",
   "execution_count": null,
   "id": "c533ca63",
   "metadata": {
    "execution": {
     "iopub.execute_input": "2022-12-29T18:01:44.697279Z",
     "iopub.status.busy": "2022-12-29T18:01:44.696495Z",
     "iopub.status.idle": "2022-12-29T18:01:44.723849Z",
     "shell.execute_reply": "2022-12-29T18:01:44.722641Z"
    },
    "papermill": {
     "duration": 0.074709,
     "end_time": "2022-12-29T18:01:44.726466",
     "exception": false,
     "start_time": "2022-12-29T18:01:44.651757",
     "status": "completed"
    },
    "tags": []
   },
   "outputs": [],
   "source": [
    "df_bureau[df_bureau[\"SK_ID_CURR\"] == 271877]"
   ]
  },
  {
   "cell_type": "code",
   "execution_count": null,
   "id": "8d7c2c12",
   "metadata": {
    "execution": {
     "iopub.execute_input": "2022-12-29T18:01:44.809303Z",
     "iopub.status.busy": "2022-12-29T18:01:44.808353Z",
     "iopub.status.idle": "2022-12-29T18:01:44.848037Z",
     "shell.execute_reply": "2022-12-29T18:01:44.846625Z"
    },
    "papermill": {
     "duration": 0.0842,
     "end_time": "2022-12-29T18:01:44.850461",
     "exception": false,
     "start_time": "2022-12-29T18:01:44.766261",
     "status": "completed"
    },
    "tags": []
   },
   "outputs": [],
   "source": [
    "df_previous_application[df_previous_application[\"SK_ID_CURR\"] == 271877]"
   ]
  },
  {
   "cell_type": "markdown",
   "id": "95b66e53",
   "metadata": {
    "papermill": {
     "duration": 0.038081,
     "end_time": "2022-12-29T18:01:44.929226",
     "exception": false,
     "start_time": "2022-12-29T18:01:44.891145",
     "status": "completed"
    },
    "tags": []
   },
   "source": [
    "# nettoyage data"
   ]
  },
  {
   "cell_type": "code",
   "execution_count": null,
   "id": "02abfe4a",
   "metadata": {
    "execution": {
     "iopub.execute_input": "2022-12-29T18:01:45.088197Z",
     "iopub.status.busy": "2022-12-29T18:01:45.087741Z",
     "iopub.status.idle": "2022-12-29T18:01:45.096627Z",
     "shell.execute_reply": "2022-12-29T18:01:45.095623Z"
    },
    "papermill": {
     "duration": 0.052425,
     "end_time": "2022-12-29T18:01:45.099230",
     "exception": false,
     "start_time": "2022-12-29T18:01:45.046805",
     "status": "completed"
    },
    "tags": []
   },
   "outputs": [],
   "source": [
    "# Function to calculate missing values by column# Funct \n",
    "def missing_values_table(df):\n",
    "        # Total missing values\n",
    "        mis_val = df.isnull().sum()\n",
    "        \n",
    "        # Percentage of missing values\n",
    "        mis_val_percent = 100 * df.isnull().sum() / len(df)\n",
    "        \n",
    "        #Column names\n",
    "#         Columns = pd.Series(df_train.columns)\n",
    "        # Make a table with the results\n",
    "        mis_val_table = pd.concat([mis_val, mis_val_percent], axis=1,ignore_index= True)\n",
    "        \n",
    "        # Rename the columns\n",
    "        mis_val_table = mis_val_table.rename(\n",
    "        columns = {0 : 'Missing Values', 1 : '% of Total Values'})\n",
    "        \n",
    "        # Sort the table by percentage of missing descending\n",
    "        mis_val_table = mis_val_table[\n",
    "            mis_val_table.iloc[:,1] != 0].sort_values(\n",
    "        '% of Total Values', ascending=False).round(1)\n",
    "        \n",
    "        # Print some summary information\n",
    "        print (\"The dataframe has \" + str(df.shape[1]) + \" columns.\\n\"      \n",
    "            \"There are \" + str(mis_val_table.shape[0]) +\n",
    "              \" columns that have missing values.\")\n",
    "        \n",
    "        # Return the dataframe with missing information\n",
    "        return mis_val_table"
   ]
  },
  {
   "cell_type": "code",
   "execution_count": null,
   "id": "b74545a8",
   "metadata": {
    "execution": {
     "iopub.execute_input": "2022-12-29T18:01:45.184670Z",
     "iopub.status.busy": "2022-12-29T18:01:45.183392Z",
     "iopub.status.idle": "2022-12-29T18:01:45.740304Z",
     "shell.execute_reply": "2022-12-29T18:01:45.738629Z"
    },
    "papermill": {
     "duration": 0.603866,
     "end_time": "2022-12-29T18:01:45.743336",
     "exception": false,
     "start_time": "2022-12-29T18:01:45.139470",
     "status": "completed"
    },
    "tags": []
   },
   "outputs": [],
   "source": [
    "mis_val_table = missing_values_table(df_train)\n",
    "mis_val_table.tail(20)"
   ]
  },
  {
   "cell_type": "code",
   "execution_count": null,
   "id": "4dcda022",
   "metadata": {
    "execution": {
     "iopub.execute_input": "2022-12-29T18:01:45.828108Z",
     "iopub.status.busy": "2022-12-29T18:01:45.827623Z",
     "iopub.status.idle": "2022-12-29T18:01:47.694087Z",
     "shell.execute_reply": "2022-12-29T18:01:47.692657Z"
    },
    "papermill": {
     "duration": 1.912489,
     "end_time": "2022-12-29T18:01:47.697208",
     "exception": false,
     "start_time": "2022-12-29T18:01:45.784719",
     "status": "completed"
    },
    "tags": []
   },
   "outputs": [],
   "source": [
    "sns.set_theme(style=\"whitegrid\")\n",
    "\n",
    "\n",
    "f, ax = plt.subplots(figsize=(8,20))\n",
    "sns.set_color_codes(\"pastel\")\n",
    "\n",
    "sns.barplot(y=mis_val_table.index.values, x=mis_val_table['% of Total Values'].values, label=\"Percentage\", color=\"b\")\n",
    "\n",
    "ax.legend(ncol=2, loc=\"lower right\", frameon=True)\n",
    "ax.set(xlim=(0, 100), ylabel=\"Column name\",\n",
    "       xlabel=\"Percentage of null Values in each Column\")\n",
    "sns.despine(left=True, bottom=True)"
   ]
  },
  {
   "cell_type": "markdown",
   "id": "22867413",
   "metadata": {
    "papermill": {
     "duration": 0.041334,
     "end_time": "2022-12-29T18:01:47.952046",
     "exception": false,
     "start_time": "2022-12-29T18:01:47.910712",
     "status": "completed"
    },
    "tags": []
   },
   "source": [
    "## Missing Data"
   ]
  },
  {
   "cell_type": "code",
   "execution_count": null,
   "id": "a91b044b",
   "metadata": {
    "execution": {
     "iopub.execute_input": "2022-12-29T18:01:48.042400Z",
     "iopub.status.busy": "2022-12-29T18:01:48.041925Z",
     "iopub.status.idle": "2022-12-29T18:01:50.265898Z",
     "shell.execute_reply": "2022-12-29T18:01:50.264561Z"
    },
    "papermill": {
     "duration": 2.274685,
     "end_time": "2022-12-29T18:01:50.269298",
     "exception": false,
     "start_time": "2022-12-29T18:01:47.994613",
     "status": "completed"
    },
    "tags": []
   },
   "outputs": [],
   "source": [
    "import missingno as msno\n",
    "\n",
    "msno.matrix(df_train.iloc[0:100, 40:94], sparkline=True, figsize=(20,10), sort='ascending', fontsize=12, labels=True, color=(0.25, 0.45, 0.6))"
   ]
  },
  {
   "cell_type": "code",
   "execution_count": null,
   "id": "ad1b8652",
   "metadata": {
    "execution": {
     "iopub.execute_input": "2022-12-29T18:01:50.549980Z",
     "iopub.status.busy": "2022-12-29T18:01:50.549211Z",
     "iopub.status.idle": "2022-12-29T18:01:50.882943Z",
     "shell.execute_reply": "2022-12-29T18:01:50.880533Z"
    },
    "papermill": {
     "duration": 0.385723,
     "end_time": "2022-12-29T18:01:50.886794",
     "exception": false,
     "start_time": "2022-12-29T18:01:50.501071",
     "status": "completed"
    },
    "tags": []
   },
   "outputs": [],
   "source": [
    "df_train['incomplete'] = 1\n",
    "df_train.loc[df_train.isnull().sum(axis=1) < 35, 'incomplete'] = 0\n",
    "\n",
    "mean_c = np.mean(df_train.loc[df_train['incomplete'] == 0, 'TARGET'].values)\n",
    "mean_i = np.mean(df_train.loc[df_train['incomplete'] == 1, 'TARGET'].values)\n",
    "print('default ratio for more complete: {:.1%} \\ndefault ratio for less complete: {:.1%}'.format(mean_c, mean_i))"
   ]
  },
  {
   "cell_type": "code",
   "execution_count": null,
   "id": "c587d109",
   "metadata": {
    "execution": {
     "iopub.execute_input": "2022-12-29T18:01:51.082721Z",
     "iopub.status.busy": "2022-12-29T18:01:51.082195Z",
     "iopub.status.idle": "2022-12-29T18:01:51.144308Z",
     "shell.execute_reply": "2022-12-29T18:01:51.142754Z"
    },
    "papermill": {
     "duration": 0.1143,
     "end_time": "2022-12-29T18:01:51.147110",
     "exception": false,
     "start_time": "2022-12-29T18:01:51.032810",
     "status": "completed"
    },
    "tags": []
   },
   "outputs": [],
   "source": [
    "from scipy.stats import chi2_contingency\n",
    "\n",
    "props = pd.crosstab(df_train.incomplete, df_train.TARGET)\n",
    "c = chi2_contingency(props, lambda_=\"log-likelihood\")\n",
    "print(props, \"\\n p-value= \", c[1])"
   ]
  },
  {
   "cell_type": "markdown",
   "id": "fb5037cb",
   "metadata": {
    "papermill": {
     "duration": 0.043723,
     "end_time": "2022-12-29T18:01:51.421674",
     "exception": false,
     "start_time": "2022-12-29T18:01:51.377951",
     "status": "completed"
    },
    "tags": []
   },
   "source": [
    "## **Split to Numerical and Categorical Features**"
   ]
  },
  {
   "cell_type": "code",
   "execution_count": null,
   "id": "0b253832",
   "metadata": {
    "execution": {
     "iopub.execute_input": "2022-12-29T18:01:51.515325Z",
     "iopub.status.busy": "2022-12-29T18:01:51.514896Z",
     "iopub.status.idle": "2022-12-29T18:01:51.938256Z",
     "shell.execute_reply": "2022-12-29T18:01:51.937190Z"
    },
    "papermill": {
     "duration": 0.472735,
     "end_time": "2022-12-29T18:01:51.942071",
     "exception": false,
     "start_time": "2022-12-29T18:01:51.469336",
     "status": "completed"
    },
    "tags": []
   },
   "outputs": [],
   "source": [
    "def feature_type_split(data):\n",
    "    cat_list = []\n",
    "    dis_num_list = []\n",
    "    num_list = []\n",
    "    for i in data.columns.tolist():\n",
    "        if data[i].dtype == 'object':\n",
    "            cat_list.append(i)\n",
    "        elif data[i].nunique() < 25:\n",
    "            dis_num_list.append(i)\n",
    "        else:\n",
    "            num_list.append(i)\n",
    "    return cat_list, dis_num_list, num_list\n",
    "\n",
    "cat_list, dis_num_list, num_list = feature_type_split(df_train) "
   ]
  },
  {
   "cell_type": "markdown",
   "id": "bf2eef8f",
   "metadata": {},
   "source": [
    "# num_list= features numeriques continues"
   ]
  },
  {
   "cell_type": "markdown",
   "id": "bf2e1734",
   "metadata": {},
   "source": [
    "# cat_list= features categoriques"
   ]
  },
  {
   "cell_type": "markdown",
   "id": "75ac8c40",
   "metadata": {},
   "source": [
    "# dis_num_list=features numeriques discretes"
   ]
  },
  {
   "cell_type": "code",
   "execution_count": null,
   "id": "27f61494",
   "metadata": {
    "execution": {
     "iopub.execute_input": "2022-12-29T18:01:52.037902Z",
     "iopub.status.busy": "2022-12-29T18:01:52.037403Z",
     "iopub.status.idle": "2022-12-29T18:01:52.255448Z",
     "shell.execute_reply": "2022-12-29T18:01:52.253163Z"
    },
    "papermill": {
     "duration": 0.270735,
     "end_time": "2022-12-29T18:01:52.258685",
     "exception": false,
     "start_time": "2022-12-29T18:01:51.987950",
     "status": "completed"
    },
    "tags": []
   },
   "outputs": [],
   "source": [
    "df_c_numeric = df_train[num_list]\n",
    "df_categorical = df_train[cat_list]\n",
    "df_d_numeric = df_train[dis_num_list]\n",
    "\n",
    "print(\"num_list\",len(num_list))\n",
    "print(\"cat_list\",len(cat_list))\n",
    "print(\"dis_num_list\",len(dis_num_list))\n",
    "\n"
   ]
  },
  {
   "cell_type": "markdown",
   "id": "992159a5",
   "metadata": {},
   "source": [
    "# df_c_numeric= df features numeriques continues"
   ]
  },
  {
   "cell_type": "code",
   "execution_count": null,
   "id": "d9f9b357",
   "metadata": {},
   "outputs": [],
   "source": [
    "df_c_numeric.head()"
   ]
  },
  {
   "cell_type": "markdown",
   "id": "8c9186aa",
   "metadata": {},
   "source": [
    "# df_categorical= df features categoriques"
   ]
  },
  {
   "cell_type": "code",
   "execution_count": null,
   "id": "8262dfd4",
   "metadata": {
    "execution": {
     "iopub.execute_input": "2022-12-29T18:01:52.358153Z",
     "iopub.status.busy": "2022-12-29T18:01:52.357656Z",
     "iopub.status.idle": "2022-12-29T18:01:52.383988Z",
     "shell.execute_reply": "2022-12-29T18:01:52.382625Z"
    },
    "papermill": {
     "duration": 0.080077,
     "end_time": "2022-12-29T18:01:52.386752",
     "exception": false,
     "start_time": "2022-12-29T18:01:52.306675",
     "status": "completed"
    },
    "tags": []
   },
   "outputs": [],
   "source": [
    "df_categorical.head()"
   ]
  },
  {
   "cell_type": "markdown",
   "id": "ebd8af8c",
   "metadata": {},
   "source": [
    "# df_d_numeric= df features numeriques discretes"
   ]
  },
  {
   "cell_type": "code",
   "execution_count": null,
   "id": "83361fdc",
   "metadata": {},
   "outputs": [],
   "source": [
    "df_d_numeric.head()"
   ]
  },
  {
   "cell_type": "markdown",
   "id": "2b411875",
   "metadata": {
    "papermill": {
     "duration": 0.046784,
     "end_time": "2022-12-29T18:01:52.478100",
     "exception": false,
     "start_time": "2022-12-29T18:01:52.431316",
     "status": "completed"
    },
    "tags": []
   },
   "source": [
    "# valeurs manquantes imputees par median (continues) ou most frequent (discretes ou categorielles)"
   ]
  },
  {
   "cell_type": "code",
   "execution_count": null,
   "id": "0c2b7959",
   "metadata": {
    "execution": {
     "iopub.execute_input": "2022-12-29T18:01:52.777105Z",
     "iopub.status.busy": "2022-12-29T18:01:52.776649Z",
     "iopub.status.idle": "2022-12-29T18:01:59.624016Z",
     "shell.execute_reply": "2022-12-29T18:01:59.622279Z"
    },
    "papermill": {
     "duration": 6.899086,
     "end_time": "2022-12-29T18:01:59.626999",
     "exception": false,
     "start_time": "2022-12-29T18:01:52.727913",
     "status": "completed"
    },
    "tags": []
   },
   "outputs": [],
   "source": [
    "from sklearn.impute import SimpleImputer\n",
    "import time\n",
    "\n",
    "\n",
    "#categoriques\n",
    "df_train[cat_list] = SimpleImputer(strategy='most_frequent').fit_transform(df_train[cat_list])\n",
    "\n",
    "#discrete\n",
    "df_train[dis_num_list] = SimpleImputer(strategy='most_frequent').fit_transform(df_train[dis_num_list])\n",
    "\n",
    "#continues\n",
    "\n",
    "df_train[num_list] = SimpleImputer(strategy='median').fit_transform(df_train[num_list])\n"
   ]
  },
  {
   "cell_type": "code",
   "execution_count": null,
   "id": "f9903e09",
   "metadata": {
    "papermill": {
     "duration": 0.047832,
     "end_time": "2022-12-29T18:01:59.722261",
     "exception": false,
     "start_time": "2022-12-29T18:01:59.674429",
     "status": "completed"
    },
    "tags": []
   },
   "outputs": [],
   "source": [
    "df_train"
   ]
  },
  {
   "cell_type": "code",
   "execution_count": null,
   "id": "f8e2640c",
   "metadata": {},
   "outputs": [],
   "source": [
    "df_train.dropna()"
   ]
  },
  {
   "cell_type": "markdown",
   "id": "a72cc6fe",
   "metadata": {
    "papermill": {
     "duration": 0.046903,
     "end_time": "2022-12-29T18:01:59.815493",
     "exception": false,
     "start_time": "2022-12-29T18:01:59.768590",
     "status": "completed"
    },
    "tags": []
   },
   "source": [
    "#  Outliers pour features numeriques continues"
   ]
  },
  {
   "cell_type": "code",
   "execution_count": null,
   "id": "e1c5d576",
   "metadata": {
    "execution": {
     "iopub.execute_input": "2022-12-29T18:01:59.910434Z",
     "iopub.status.busy": "2022-12-29T18:01:59.909935Z",
     "iopub.status.idle": "2022-12-29T18:02:38.476701Z",
     "shell.execute_reply": "2022-12-29T18:02:38.475354Z"
    },
    "papermill": {
     "duration": 38.672688,
     "end_time": "2022-12-29T18:02:38.535012",
     "exception": false,
     "start_time": "2022-12-29T18:01:59.862324",
     "status": "completed"
    },
    "scrolled": true,
    "tags": []
   },
   "outputs": [],
   "source": [
    "sns.set_theme(style=\"whitegrid\")\n",
    "gs = gridspec.GridSpec(20, 3)\n",
    "\n",
    "f, ax = plt.subplots(figsize=(18,85))\n",
    "\n",
    "columns =df_train[num_list].columns.values[:60]\n",
    "c = 0\n",
    "for i in range (20):\n",
    "    for j in range (3):\n",
    "        ax = plt.subplot(gs[i, j])\n",
    "        sns.boxplot(data=df_train[num_list].iloc[:,c], orient=\"h\")\n",
    "        ax.set_title(columns[c])\n",
    "        ax.legend()\n",
    "        c+=1\n"
   ]
  },
  {
   "cell_type": "code",
   "execution_count": null,
   "id": "279d062b",
   "metadata": {
    "execution": {
     "iopub.execute_input": "2022-12-29T18:02:38.644163Z",
     "iopub.status.busy": "2022-12-29T18:02:38.643679Z",
     "iopub.status.idle": "2022-12-29T18:04:18.185970Z",
     "shell.execute_reply": "2022-12-29T18:04:18.184366Z"
    },
    "papermill": {
     "duration": 99.676709,
     "end_time": "2022-12-29T18:04:18.265793",
     "exception": false,
     "start_time": "2022-12-29T18:02:38.589084",
     "status": "completed"
    },
    "tags": []
   },
   "outputs": [],
   "source": [
    "import warnings\n",
    "warnings.filterwarnings('ignore')\n",
    "\n",
    "\n",
    "\n",
    "sns.set_theme(style=\"whitegrid\")\n",
    "gs = gridspec.GridSpec(20, 3)\n",
    "\n",
    "f, ax = plt.subplots(figsize=(18,120))\n",
    "\n",
    "columns =df_train[num_list].columns.values[:60]\n",
    "\n",
    "c = 0\n",
    "for i in range (20):\n",
    "    for j in range (3):\n",
    "        ax = plt.subplot(gs[i, j])\n",
    "        sns.distplot(df_train[num_list].iloc[:,c])\n",
    "        c+=1"
   ]
  },
  {
   "cell_type": "code",
   "execution_count": null,
   "id": "397417f3",
   "metadata": {
    "execution": {
     "iopub.execute_input": "2022-12-29T18:04:18.663726Z",
     "iopub.status.busy": "2022-12-29T18:04:18.662878Z",
     "iopub.status.idle": "2022-12-29T18:04:18.969360Z",
     "shell.execute_reply": "2022-12-29T18:04:18.967950Z"
    },
    "papermill": {
     "duration": 0.376603,
     "end_time": "2022-12-29T18:04:18.973021",
     "exception": false,
     "start_time": "2022-12-29T18:04:18.596418",
     "status": "completed"
    },
    "tags": []
   },
   "outputs": [],
   "source": [
    "# suprimer outliers par interquartile exemple sur 'DAYS_REGISTRATION'\n",
    "df = df_train[num_list]\n",
    "\n",
    "#intterquartile\n",
    "percentile25 = df['DAYS_REGISTRATION'].quantile(0.25)\n",
    "percentile75 = df['DAYS_REGISTRATION'].quantile(0.75)\n",
    "\n",
    "IQR = percentile75 - percentile25\n",
    "\n",
    "#sup et inf\n",
    "upper_limit = percentile75 + 1.5 * IQR\n",
    "lower_limit = percentile25 - 1.5 * IQR\n",
    "\n",
    "#Outliers\n",
    "\n",
    "df[df['DAYS_REGISTRATION'] > upper_limit]\n",
    "df[df['DAYS_REGISTRATION'] < lower_limit]\n",
    "\n",
    "#Trimming\n",
    "\n",
    "new_df = df.loc[(df['DAYS_REGISTRATION'] < upper_limit) & (df['DAYS_REGISTRATION'] > lower_limit)]\n",
    "new_df.shape\n",
    "\n",
    "#Capping\n",
    "\n",
    "new_df_cap = df_train[num_list].copy()\n",
    "\n",
    "new_df_cap[\"DAYS_REGISTRATION\"] = np.where(new_df_cap['DAYS_REGISTRATION'] < lower_limit,lower_limit\n",
    "                                          ,np.where(new_df_cap['DAYS_REGISTRATION'] > upper_limit,upper_limit,\n",
    "                                                   new_df_cap[\"DAYS_REGISTRATION\"] )\n",
    "                                          )\n",
    "\n",
    "#Compare the plots after trimming\n",
    "new_df_cap.shape"
   ]
  },
  {
   "cell_type": "markdown",
   "id": "5396e8d1",
   "metadata": {
    "papermill": {
     "duration": 0.067511,
     "end_time": "2022-12-29T18:04:19.107821",
     "exception": false,
     "start_time": "2022-12-29T18:04:19.040310",
     "status": "completed"
    },
    "tags": []
   },
   "source": [
    "#### apres et avant ourliers removal, exemples"
   ]
  },
  {
   "cell_type": "code",
   "execution_count": null,
   "id": "9e71b3ed",
   "metadata": {
    "execution": {
     "iopub.execute_input": "2022-12-29T18:04:19.249241Z",
     "iopub.status.busy": "2022-12-29T18:04:19.248693Z",
     "iopub.status.idle": "2022-12-29T18:04:22.878685Z",
     "shell.execute_reply": "2022-12-29T18:04:22.877631Z"
    },
    "papermill": {
     "duration": 3.703737,
     "end_time": "2022-12-29T18:04:22.881633",
     "exception": false,
     "start_time": "2022-12-29T18:04:19.177896",
     "status": "completed"
    },
    "tags": []
   },
   "outputs": [],
   "source": [
    "plt.figure(figsize=(16,8))\n",
    "plt.subplot(2,2,1)\n",
    "sns.distplot(df_train[num_list]['DAYS_REGISTRATION'])\n",
    "plt.subplot(2,2,2)\n",
    "sns.boxplot(df_train[num_list]['DAYS_REGISTRATION'])\n",
    "plt.subplot(2,2,3)\n",
    "sns.distplot(new_df['DAYS_REGISTRATION'])\n",
    "plt.subplot(2,2,4)\n",
    "sns.boxplot(new_df['DAYS_REGISTRATION'])\n",
    "plt.show()"
   ]
  },
  {
   "cell_type": "markdown",
   "id": "4187d810",
   "metadata": {},
   "source": [
    "# remove outliers pour features numeriques continues"
   ]
  },
  {
   "cell_type": "code",
   "execution_count": null,
   "id": "f4dab504",
   "metadata": {
    "execution": {
     "iopub.execute_input": "2022-12-29T18:04:23.144779Z",
     "iopub.status.busy": "2022-12-29T18:04:23.143883Z",
     "iopub.status.idle": "2022-12-29T18:04:23.153242Z",
     "shell.execute_reply": "2022-12-29T18:04:23.152187Z"
    },
    "papermill": {
     "duration": 0.078556,
     "end_time": "2022-12-29T18:04:23.156036",
     "exception": false,
     "start_time": "2022-12-29T18:04:23.077480",
     "status": "completed"
    },
    "tags": []
   },
   "outputs": [],
   "source": [
    "# Remove outliers\n",
    "def remov_outliers(df, feature):\n",
    "\n",
    "    #Finding the IQR\n",
    "    percentile25 = df[str(feature)].quantile(0.25)\n",
    "    percentile75 = df[str(feature)].quantile(0.75)\n",
    "\n",
    "    IQR = percentile75 - percentile25\n",
    "\n",
    "    #Finding upper and lower limit\n",
    "    upper_limit = percentile75 + 1.5 * IQR\n",
    "    lower_limit = percentile25 - 1.5 * IQR\n",
    "\n",
    "    #Finding Outliers\n",
    "\n",
    "    df[df[feature] > upper_limit]\n",
    "    df[df[feature] < lower_limit]\n",
    "\n",
    "    #Trimming\n",
    "\n",
    "    new_df = df.loc[(df[feature] < upper_limit) & (df[feature] > lower_limit)]\n",
    "    new_df.shape\n",
    "\n",
    "    #Capping\n",
    "\n",
    "    new_df_cap = df.copy()\n",
    "\n",
    "    new_df_cap[feature] = np.where(new_df_cap[feature] < lower_limit,lower_limit\n",
    "                                              ,np.where(new_df_cap[feature] > upper_limit,upper_limit,\n",
    "                                                       new_df_cap[feature] )\n",
    "                                              )\n",
    "\n",
    "    return new_df_cap"
   ]
  },
  {
   "cell_type": "code",
   "execution_count": null,
   "id": "b404c13f",
   "metadata": {
    "execution": {
     "iopub.execute_input": "2022-12-29T18:04:23.288219Z",
     "iopub.status.busy": "2022-12-29T18:04:23.286994Z",
     "iopub.status.idle": "2022-12-29T18:04:33.035829Z",
     "shell.execute_reply": "2022-12-29T18:04:33.034391Z"
    },
    "papermill": {
     "duration": 9.821439,
     "end_time": "2022-12-29T18:04:33.040360",
     "exception": false,
     "start_time": "2022-12-29T18:04:23.218921",
     "status": "completed"
    },
    "tags": []
   },
   "outputs": [],
   "source": [
    "# Remove outliers for all features\n",
    "df_imputed_new = df_c_numeric.copy()\n",
    "# df_imputed_new = df_imputed_new.drop(columns=['SK_ID_CURR', 'TARGET'],axis = 1)\n",
    "\n",
    "columns = df_imputed_new.columns.values\n",
    "\n",
    "for i in columns:\n",
    "    df_imputed_new = remov_outliers(df_imputed_new, i)\n",
    "\n",
    "\n"
   ]
  },
  {
   "cell_type": "markdown",
   "id": "403bc785",
   "metadata": {
    "papermill": {
     "duration": 0.06544,
     "end_time": "2022-12-29T18:04:33.171332",
     "exception": false,
     "start_time": "2022-12-29T18:04:33.105892",
     "status": "completed"
    },
    "tags": []
   },
   "source": [
    "# visualize the feature distribution after capping outliers"
   ]
  },
  {
   "cell_type": "code",
   "execution_count": null,
   "id": "a8c56eff",
   "metadata": {
    "execution": {
     "iopub.execute_input": "2022-12-29T18:04:33.306813Z",
     "iopub.status.busy": "2022-12-29T18:04:33.306315Z",
     "iopub.status.idle": "2022-12-29T18:04:33.376878Z",
     "shell.execute_reply": "2022-12-29T18:04:33.375008Z"
    },
    "papermill": {
     "duration": 0.141348,
     "end_time": "2022-12-29T18:04:33.379716",
     "exception": false,
     "start_time": "2022-12-29T18:04:33.238368",
     "status": "completed"
    },
    "tags": []
   },
   "outputs": [],
   "source": [
    "df_imputed_new"
   ]
  },
  {
   "cell_type": "code",
   "execution_count": null,
   "id": "dc290f22",
   "metadata": {
    "execution": {
     "iopub.execute_input": "2022-12-29T18:04:33.733833Z",
     "iopub.status.busy": "2022-12-29T18:04:33.733062Z",
     "iopub.status.idle": "2022-12-29T18:04:33.742068Z",
     "shell.execute_reply": "2022-12-29T18:04:33.740090Z"
    },
    "papermill": {
     "duration": 0.078045,
     "end_time": "2022-12-29T18:04:33.745670",
     "exception": false,
     "start_time": "2022-12-29T18:04:33.667625",
     "status": "completed"
    },
    "tags": []
   },
   "outputs": [],
   "source": [
    "df_c_numeric.shape"
   ]
  },
  {
   "cell_type": "code",
   "execution_count": null,
   "id": "42ac19b1",
   "metadata": {
    "execution": {
     "iopub.execute_input": "2022-12-29T18:04:33.882316Z",
     "iopub.status.busy": "2022-12-29T18:04:33.881793Z",
     "iopub.status.idle": "2022-12-29T18:04:57.303351Z",
     "shell.execute_reply": "2022-12-29T18:04:57.301454Z"
    },
    "papermill": {
     "duration": 23.49908,
     "end_time": "2022-12-29T18:04:57.311595",
     "exception": false,
     "start_time": "2022-12-29T18:04:33.812515",
     "status": "completed"
    },
    "tags": []
   },
   "outputs": [],
   "source": [
    "#visualize the feature distribution after capping outliers\n",
    "import warnings\n",
    "warnings.filterwarnings('ignore')\n",
    "\n",
    "\n",
    "\n",
    "sns.set_theme(style=\"whitegrid\")\n",
    "gs = gridspec.GridSpec(20, 3)\n",
    "\n",
    "# Initialize the matplotlib figure\n",
    "f, ax = plt.subplots(figsize=(18,120))\n",
    "\n",
    "columns = df_c_numeric.columns.values[:60]\n",
    "c = 0\n",
    "for i in range (20):\n",
    "    for j in range (3):\n",
    "        ax = plt.subplot(gs[i, j])\n",
    "        sns.distplot(df_imputed_new.iloc[:,c],kde=False)\n",
    "\n",
    "        c+=1"
   ]
  },
  {
   "cell_type": "code",
   "execution_count": null,
   "id": "5475d077",
   "metadata": {
    "execution": {
     "iopub.execute_input": "2022-12-29T18:04:57.471995Z",
     "iopub.status.busy": "2022-12-29T18:04:57.470676Z",
     "iopub.status.idle": "2022-12-29T18:04:59.097567Z",
     "shell.execute_reply": "2022-12-29T18:04:59.096202Z"
    },
    "papermill": {
     "duration": 1.708049,
     "end_time": "2022-12-29T18:04:59.100724",
     "exception": false,
     "start_time": "2022-12-29T18:04:57.392675",
     "status": "completed"
    },
    "tags": []
   },
   "outputs": [],
   "source": [
    "sns.distplot(df_imputed_new[\"DAYS_LAST_PHONE_CHANGE\"])\n",
    "plt.show()"
   ]
  },
  {
   "cell_type": "markdown",
   "id": "637c5413",
   "metadata": {},
   "source": [
    "# df_imputed_new= df numeriques continues et discretes"
   ]
  },
  {
   "cell_type": "code",
   "execution_count": null,
   "id": "28343295",
   "metadata": {
    "execution": {
     "iopub.execute_input": "2022-12-29T18:04:59.254867Z",
     "iopub.status.busy": "2022-12-29T18:04:59.254422Z",
     "iopub.status.idle": "2022-12-29T18:04:59.361909Z",
     "shell.execute_reply": "2022-12-29T18:04:59.359978Z"
    },
    "papermill": {
     "duration": 0.189532,
     "end_time": "2022-12-29T18:04:59.365280",
     "exception": false,
     "start_time": "2022-12-29T18:04:59.175748",
     "status": "completed"
    },
    "tags": []
   },
   "outputs": [],
   "source": [
    "#Concat again the Dis Numerical Features\n",
    "df_imputed_new = pd.concat([df_imputed_new,df_d_numeric ],axis = 1)"
   ]
  },
  {
   "cell_type": "markdown",
   "id": "7fdd1f17",
   "metadata": {
    "papermill": {
     "duration": 0.074887,
     "end_time": "2022-12-29T18:04:59.657469",
     "exception": false,
     "start_time": "2022-12-29T18:04:59.582582",
     "status": "completed"
    },
    "tags": []
   },
   "source": [
    "# Data Transformations: Robust scaler applied to continuous numerical features\n"
   ]
  },
  {
   "cell_type": "code",
   "execution_count": null,
   "id": "b54f74b9",
   "metadata": {
    "execution": {
     "iopub.execute_input": "2022-12-29T18:04:59.955829Z",
     "iopub.status.busy": "2022-12-29T18:04:59.954885Z",
     "iopub.status.idle": "2022-12-29T18:04:59.963401Z",
     "shell.execute_reply": "2022-12-29T18:04:59.961820Z"
    },
    "papermill": {
     "duration": 0.088485,
     "end_time": "2022-12-29T18:04:59.966907",
     "exception": false,
     "start_time": "2022-12-29T18:04:59.878422",
     "status": "completed"
    },
    "tags": []
   },
   "outputs": [],
   "source": [
    "len(num_list)"
   ]
  },
  {
   "cell_type": "code",
   "execution_count": null,
   "id": "cd34c8b8",
   "metadata": {
    "execution": {
     "iopub.execute_input": "2022-12-29T18:05:00.121693Z",
     "iopub.status.busy": "2022-12-29T18:05:00.120771Z",
     "iopub.status.idle": "2022-12-29T18:05:01.490602Z",
     "shell.execute_reply": "2022-12-29T18:05:01.488311Z"
    },
    "papermill": {
     "duration": 1.448914,
     "end_time": "2022-12-29T18:05:01.494635",
     "exception": false,
     "start_time": "2022-12-29T18:05:00.045721",
     "status": "completed"
    },
    "tags": []
   },
   "outputs": [],
   "source": [
    "from sklearn.preprocessing import RobustScaler\n",
    "\n",
    "transformer = RobustScaler().fit(df_imputed_new[num_list])\n",
    "df_imputed_new[num_list] = transformer.transform(df_imputed_new[num_list])"
   ]
  },
  {
   "cell_type": "markdown",
   "id": "0ebfc360",
   "metadata": {
    "papermill": {
     "duration": 0.075915,
     "end_time": "2022-12-29T18:05:01.643479",
     "exception": false,
     "start_time": "2022-12-29T18:05:01.567564",
     "status": "completed"
    },
    "tags": []
   },
   "source": [
    "# **statistical analysis for numerical features**"
   ]
  },
  {
   "cell_type": "code",
   "execution_count": null,
   "id": "6601960a",
   "metadata": {
    "execution": {
     "iopub.execute_input": "2022-12-29T18:05:02.244810Z",
     "iopub.status.busy": "2022-12-29T18:05:02.244352Z",
     "iopub.status.idle": "2022-12-29T18:05:02.333240Z",
     "shell.execute_reply": "2022-12-29T18:05:02.331169Z"
    },
    "papermill": {
     "duration": 0.166748,
     "end_time": "2022-12-29T18:05:02.336417",
     "exception": false,
     "start_time": "2022-12-29T18:05:02.169669",
     "status": "completed"
    },
    "tags": []
   },
   "outputs": [],
   "source": [
    "df_imputed_new.head()"
   ]
  },
  {
   "cell_type": "code",
   "execution_count": null,
   "id": "50cec47f",
   "metadata": {
    "execution": {
     "iopub.execute_input": "2022-12-29T18:05:02.505448Z",
     "iopub.status.busy": "2022-12-29T18:05:02.504606Z",
     "iopub.status.idle": "2022-12-29T18:05:02.510062Z",
     "shell.execute_reply": "2022-12-29T18:05:02.508331Z"
    },
    "papermill": {
     "duration": 0.099923,
     "end_time": "2022-12-29T18:05:02.514151",
     "exception": false,
     "start_time": "2022-12-29T18:05:02.414228",
     "status": "completed"
    },
    "tags": []
   },
   "outputs": [],
   "source": [
    "import scipy.stats\n"
   ]
  },
  {
   "cell_type": "code",
   "execution_count": null,
   "id": "639a7dce",
   "metadata": {
    "execution": {
     "iopub.execute_input": "2022-12-29T18:05:02.822916Z",
     "iopub.status.busy": "2022-12-29T18:05:02.822160Z",
     "iopub.status.idle": "2022-12-29T18:05:17.248724Z",
     "shell.execute_reply": "2022-12-29T18:05:17.247268Z"
    },
    "papermill": {
     "duration": 14.506721,
     "end_time": "2022-12-29T18:05:17.252516",
     "exception": false,
     "start_time": "2022-12-29T18:05:02.745795",
     "status": "completed"
    },
    "tags": []
   },
   "outputs": [],
   "source": [
    "plt.figure(figsize=(14,70))\n",
    "y_corr = df_imputed_new.corr().loc[\"TARGET\"].sort_values(ascending=False).drop(\"TARGET\",axis = 0).dropna()\n",
    "\n",
    "ax = sns.barplot(y=y_corr.index.values, x=y_corr.values,\n",
    "            label=\"Correlation\", color=\"r\")\n",
    "\n",
    "\n",
    "# Add a legend and informative axis label\n",
    "ax.legend(ncol=2, loc=\"lower right\", frameon=True)\n",
    "ax.set(xlim=(-0.3, 0.3), ylabel=\"Column name\",\n",
    "       xlabel=\"Correlation\")\n",
    "sns.despine(left=True, bottom=True)"
   ]
  },
  {
   "cell_type": "markdown",
   "id": "2a67ec91",
   "metadata": {
    "papermill": {
     "duration": 0.084414,
     "end_time": "2022-12-29T18:05:17.423444",
     "exception": false,
     "start_time": "2022-12-29T18:05:17.339030",
     "status": "completed"
    },
    "tags": []
   },
   "source": [
    "#**['OWN_CAR_AGE', 'DAYS_BIRTH', 'DAYS_LAST_PHONE_CHANGE',\n",
    "'DAYS_ID_PUBLISH', 'FLAG_DOCUMENT_3', 'DAYS_REGISTRATION',\n",
    ">        'NONLIVINGAPARTMENTS_MODE']  &  ['REGION_POPULATION_RELATIVE', 'AMT_GOODS_PRICE', 'EXT_SOURCE_2',\n",
    ">        'EXT_SOURCE_3', 'EXT_SOURCE_1']**"
   ]
  },
  {
   "cell_type": "code",
   "execution_count": null,
   "id": "fbdd76bd",
   "metadata": {
    "execution": {
     "iopub.execute_input": "2022-12-29T18:05:17.582887Z",
     "iopub.status.busy": "2022-12-29T18:05:17.581863Z",
     "iopub.status.idle": "2022-12-29T18:05:29.300321Z",
     "shell.execute_reply": "2022-12-29T18:05:29.298883Z"
    },
    "papermill": {
     "duration": 11.802909,
     "end_time": "2022-12-29T18:05:29.304352",
     "exception": false,
     "start_time": "2022-12-29T18:05:17.501443",
     "status": "completed"
    },
    "tags": []
   },
   "outputs": [],
   "source": [
    "y_corr = df_imputed_new.corr().loc[\"TARGET\"].sort_values(ascending=False).drop(\"TARGET\",axis = 0).dropna()\n"
   ]
  },
  {
   "cell_type": "code",
   "execution_count": null,
   "id": "a4c8652c",
   "metadata": {
    "execution": {
     "iopub.execute_input": "2022-12-29T18:05:29.471035Z",
     "iopub.status.busy": "2022-12-29T18:05:29.470216Z",
     "iopub.status.idle": "2022-12-29T18:05:29.476030Z",
     "shell.execute_reply": "2022-12-29T18:05:29.474912Z"
    },
    "papermill": {
     "duration": 0.091029,
     "end_time": "2022-12-29T18:05:29.478849",
     "exception": false,
     "start_time": "2022-12-29T18:05:29.387820",
     "status": "completed"
    },
    "tags": []
   },
   "outputs": [],
   "source": [
    "lst = list(df_imputed_new.columns.values[:80])"
   ]
  },
  {
   "cell_type": "markdown",
   "id": "f5ccb7e5",
   "metadata": {
    "papermill": {
     "duration": 0.07668,
     "end_time": "2022-12-29T18:05:29.637008",
     "exception": false,
     "start_time": "2022-12-29T18:05:29.560328",
     "status": "completed"
    },
    "tags": []
   },
   "source": [
    "### Testing the assumptions"
   ]
  },
  {
   "cell_type": "code",
   "execution_count": null,
   "id": "8c99ea45",
   "metadata": {
    "execution": {
     "iopub.execute_input": "2022-12-29T18:05:29.966727Z",
     "iopub.status.busy": "2022-12-29T18:05:29.965819Z",
     "iopub.status.idle": "2022-12-29T18:05:29.977178Z",
     "shell.execute_reply": "2022-12-29T18:05:29.976091Z"
    },
    "papermill": {
     "duration": 0.099573,
     "end_time": "2022-12-29T18:05:29.980588",
     "exception": false,
     "start_time": "2022-12-29T18:05:29.881015",
     "status": "completed"
    },
    "tags": []
   },
   "outputs": [],
   "source": [
    "# import the data\n",
    "from scipy import stats\n",
    "\n",
    "def test(df):\n",
    "    columns = df.columns.values\n",
    "\n",
    "    test_df = pd.DataFrame(columns, columns= ['Column name'])\n",
    "    test_df[\"normality\"] = 0\n",
    "    test_df[\"homogeneity\"] = 0\n",
    "\n",
    "    Repay = df[df['TARGET'] == 0]\n",
    "    No_Repay = df[df['TARGET'] == 1]\n",
    "\n",
    "    for col in columns:\n",
    "\n",
    "        # homogeneity\n",
    "        s, p_value = stats.levene(Repay[str(col)].values.flatten(), No_Repay[str(col)].values.flatten())\n",
    "        if p_value < 0.05:\n",
    "            test_df.loc[test_df[\"Column name\"] == str(col), \"homogeneity\"] = 1\n",
    "\n",
    "\n",
    "        # Shapiro-Wilk test normalite\n",
    "        s, p_value = stats.shapiro(Repay[str(col)].values.flatten())\n",
    "        s2, p_value2 = stats.shapiro(No_Repay[str(col)].values.flatten())\n",
    "\n",
    "        if p_value < 0.05 and p_value2 <0.05:\n",
    "            test_df.loc[test_df[\"Column name\"] == str(col), \"normality\"] = 1\n",
    "        \n",
    "    return test_df\n",
    "\n"
   ]
  },
  {
   "cell_type": "code",
   "execution_count": null,
   "id": "c4ecb97c",
   "metadata": {
    "execution": {
     "iopub.execute_input": "2022-12-29T18:05:30.143957Z",
     "iopub.status.busy": "2022-12-29T18:05:30.142432Z",
     "iopub.status.idle": "2022-12-29T18:05:30.151746Z",
     "shell.execute_reply": "2022-12-29T18:05:30.150081Z"
    },
    "papermill": {
     "duration": 0.093843,
     "end_time": "2022-12-29T18:05:30.155805",
     "exception": false,
     "start_time": "2022-12-29T18:05:30.061962",
     "status": "completed"
    },
    "tags": []
   },
   "outputs": [],
   "source": [
    "df_imputed_new.shape"
   ]
  },
  {
   "cell_type": "code",
   "execution_count": null,
   "id": "a2cfaa10",
   "metadata": {
    "execution": {
     "iopub.execute_input": "2022-12-29T18:05:30.321227Z",
     "iopub.status.busy": "2022-12-29T18:05:30.320418Z",
     "iopub.status.idle": "2022-12-29T18:05:33.169120Z",
     "shell.execute_reply": "2022-12-29T18:05:33.167588Z"
    },
    "papermill": {
     "duration": 2.937246,
     "end_time": "2022-12-29T18:05:33.172464",
     "exception": false,
     "start_time": "2022-12-29T18:05:30.235218",
     "status": "completed"
    },
    "tags": []
   },
   "outputs": [],
   "source": [
    "test_df = test(df_imputed_new)"
   ]
  },
  {
   "cell_type": "code",
   "execution_count": null,
   "id": "73ad5769",
   "metadata": {
    "execution": {
     "iopub.execute_input": "2022-12-29T18:05:33.336366Z",
     "iopub.status.busy": "2022-12-29T18:05:33.335916Z",
     "iopub.status.idle": "2022-12-29T18:05:33.350287Z",
     "shell.execute_reply": "2022-12-29T18:05:33.349241Z"
    },
    "papermill": {
     "duration": 0.100655,
     "end_time": "2022-12-29T18:05:33.352990",
     "exception": false,
     "start_time": "2022-12-29T18:05:33.252335",
     "status": "completed"
    },
    "tags": []
   },
   "outputs": [],
   "source": [
    "test_df"
   ]
  },
  {
   "cell_type": "code",
   "execution_count": null,
   "id": "dd0b6ca9",
   "metadata": {
    "execution": {
     "iopub.execute_input": "2022-12-29T18:05:33.517578Z",
     "iopub.status.busy": "2022-12-29T18:05:33.516652Z",
     "iopub.status.idle": "2022-12-29T18:05:33.523863Z",
     "shell.execute_reply": "2022-12-29T18:05:33.522639Z"
    },
    "papermill": {
     "duration": 0.0911,
     "end_time": "2022-12-29T18:05:33.526820",
     "exception": false,
     "start_time": "2022-12-29T18:05:33.435720",
     "status": "completed"
    },
    "tags": []
   },
   "outputs": [],
   "source": [
    "#Features satisfaisant l'hypothese\n",
    "acc_features = test_df.loc[(test_df[\"normality\"] == 1) &(test_df[\"homogeneity\"] == 1)]"
   ]
  },
  {
   "cell_type": "code",
   "execution_count": null,
   "id": "68c73ce9",
   "metadata": {
    "execution": {
     "iopub.execute_input": "2022-12-29T18:05:33.694082Z",
     "iopub.status.busy": "2022-12-29T18:05:33.693601Z",
     "iopub.status.idle": "2022-12-29T18:05:33.707756Z",
     "shell.execute_reply": "2022-12-29T18:05:33.706340Z"
    },
    "papermill": {
     "duration": 0.100078,
     "end_time": "2022-12-29T18:05:33.710972",
     "exception": false,
     "start_time": "2022-12-29T18:05:33.610894",
     "status": "completed"
    },
    "tags": []
   },
   "outputs": [],
   "source": [
    "acc_features"
   ]
  },
  {
   "cell_type": "code",
   "execution_count": null,
   "id": "f140bbf6",
   "metadata": {
    "execution": {
     "iopub.execute_input": "2022-12-29T18:05:33.875833Z",
     "iopub.status.busy": "2022-12-29T18:05:33.875293Z",
     "iopub.status.idle": "2022-12-29T18:05:33.892708Z",
     "shell.execute_reply": "2022-12-29T18:05:33.891642Z"
    },
    "papermill": {
     "duration": 0.103164,
     "end_time": "2022-12-29T18:05:33.895295",
     "exception": false,
     "start_time": "2022-12-29T18:05:33.792131",
     "status": "completed"
    },
    "tags": []
   },
   "outputs": [],
   "source": [
    "test_df.loc[(test_df[\"normality\"] == 0) | (test_df[\"homogeneity\"] == 0)]"
   ]
  },
  {
   "cell_type": "markdown",
   "id": "3090ee79",
   "metadata": {
    "papermill": {
     "duration": 0.08632,
     "end_time": "2022-12-29T18:05:34.062184",
     "exception": false,
     "start_time": "2022-12-29T18:05:33.975864",
     "status": "completed"
    },
    "tags": []
   },
   "source": [
    "## **T-test**"
   ]
  },
  {
   "cell_type": "code",
   "execution_count": null,
   "id": "af23d4b6",
   "metadata": {
    "execution": {
     "iopub.execute_input": "2022-12-29T18:05:34.399849Z",
     "iopub.status.busy": "2022-12-29T18:05:34.398657Z",
     "iopub.status.idle": "2022-12-29T18:05:34.409039Z",
     "shell.execute_reply": "2022-12-29T18:05:34.407674Z"
    },
    "papermill": {
     "duration": 0.09978,
     "end_time": "2022-12-29T18:05:34.412621",
     "exception": false,
     "start_time": "2022-12-29T18:05:34.312841",
     "status": "completed"
    },
    "tags": []
   },
   "outputs": [],
   "source": [
    "import scipy\n",
    "def t_test(df,test_df):\n",
    "    accept_null_hypo = []\n",
    "    reject_null_hypo = []\n",
    "    #select only Variables that satisfy the assumptions ( Normality and homogenous)\n",
    "    columns = test_df.loc[(test_df[\"normality\"] == 1) &(test_df[\"homogeneity\"] == 1)][\"Column name\"].values\n",
    "\n",
    "    Repay = df[(df['TARGET'] == 0)]\n",
    "    No_Repay = df[(df['TARGET'] == 1)]\n",
    "\n",
    "    for col in columns:\n",
    "\n",
    "        #conduct the Independent t-test\n",
    "        s, p_value = stats.ttest_ind(Repay[str(col)], No_Repay[str(col)])\n",
    "        if p_value < 0.05:\n",
    "            reject_null_hypo.append(col)\n",
    "        else:\n",
    "            accept_null_hypo.append(col)\n",
    "            \n",
    "    return accept_null_hypo,reject_null_hypo"
   ]
  },
  {
   "cell_type": "code",
   "execution_count": null,
   "id": "778a620b",
   "metadata": {
    "execution": {
     "iopub.execute_input": "2022-12-29T18:05:34.586956Z",
     "iopub.status.busy": "2022-12-29T18:05:34.586142Z",
     "iopub.status.idle": "2022-12-29T18:05:34.867095Z",
     "shell.execute_reply": "2022-12-29T18:05:34.865752Z"
    },
    "papermill": {
     "duration": 0.368021,
     "end_time": "2022-12-29T18:05:34.869887",
     "exception": false,
     "start_time": "2022-12-29T18:05:34.501866",
     "status": "completed"
    },
    "tags": []
   },
   "outputs": [],
   "source": [
    "accept_null_hypo, reject_null_hypo = t_test(df_imputed_new,test_df)"
   ]
  },
  {
   "cell_type": "code",
   "execution_count": null,
   "id": "1eaaed9f",
   "metadata": {
    "execution": {
     "iopub.execute_input": "2022-12-29T18:05:35.039240Z",
     "iopub.status.busy": "2022-12-29T18:05:35.037989Z",
     "iopub.status.idle": "2022-12-29T18:05:35.047824Z",
     "shell.execute_reply": "2022-12-29T18:05:35.046622Z"
    },
    "papermill": {
     "duration": 0.100665,
     "end_time": "2022-12-29T18:05:35.051820",
     "exception": false,
     "start_time": "2022-12-29T18:05:34.951155",
     "status": "completed"
    },
    "tags": []
   },
   "outputs": [],
   "source": [
    "accept_null_hypo"
   ]
  },
  {
   "cell_type": "code",
   "execution_count": null,
   "id": "a8a11730",
   "metadata": {
    "execution": {
     "iopub.execute_input": "2022-12-29T18:05:35.221953Z",
     "iopub.status.busy": "2022-12-29T18:05:35.221193Z",
     "iopub.status.idle": "2022-12-29T18:05:35.232548Z",
     "shell.execute_reply": "2022-12-29T18:05:35.231003Z"
    },
    "papermill": {
     "duration": 0.096005,
     "end_time": "2022-12-29T18:05:35.236224",
     "exception": false,
     "start_time": "2022-12-29T18:05:35.140219",
     "status": "completed"
    },
    "tags": []
   },
   "outputs": [],
   "source": [
    "reject_null_hypo"
   ]
  },
  {
   "cell_type": "markdown",
   "id": "d4570ce5",
   "metadata": {
    "papermill": {
     "duration": 0.078219,
     "end_time": "2022-12-29T18:05:35.558691",
     "exception": false,
     "start_time": "2022-12-29T18:05:35.480472",
     "status": "completed"
    },
    "tags": []
   },
   "source": [
    "### on prends les 50 features les plus correlees"
   ]
  },
  {
   "cell_type": "code",
   "execution_count": null,
   "id": "868ef79d",
   "metadata": {
    "execution": {
     "iopub.execute_input": "2022-12-29T18:05:35.724480Z",
     "iopub.status.busy": "2022-12-29T18:05:35.724042Z",
     "iopub.status.idle": "2022-12-29T18:05:35.825829Z",
     "shell.execute_reply": "2022-12-29T18:05:35.823875Z"
    },
    "papermill": {
     "duration": 0.190131,
     "end_time": "2022-12-29T18:05:35.829105",
     "exception": false,
     "start_time": "2022-12-29T18:05:35.638974",
     "status": "completed"
    },
    "tags": []
   },
   "outputs": [],
   "source": [
    "X = df_imputed_new.drop(['SK_ID_CURR', 'TARGET'], axis=1)\n",
    "y = df_imputed_new.TARGET\n",
    "feature_name = X.columns.tolist()"
   ]
  },
  {
   "cell_type": "code",
   "execution_count": null,
   "id": "8c430060",
   "metadata": {
    "execution": {
     "iopub.execute_input": "2022-12-29T18:05:36.005867Z",
     "iopub.status.busy": "2022-12-29T18:05:36.003772Z",
     "iopub.status.idle": "2022-12-29T18:05:36.015158Z",
     "shell.execute_reply": "2022-12-29T18:05:36.013278Z"
    },
    "papermill": {
     "duration": 0.104408,
     "end_time": "2022-12-29T18:05:36.018786",
     "exception": false,
     "start_time": "2022-12-29T18:05:35.914378",
     "status": "completed"
    },
    "tags": []
   },
   "outputs": [],
   "source": [
    "def cor_selector(X, y):\n",
    "    cor_list = []\n",
    "    # calculate the correlation with y for each feature\n",
    "    for i in X.columns.tolist():\n",
    "\n",
    "        cor = np.corrcoef(X[i].values.flatten(), y)[0, 1]\n",
    "        cor_list.append(cor)\n",
    "    # replace NaN with 0\n",
    "    cor_list = [0 if np.isnan(i) else i for i in cor_list]\n",
    "    # feature name\n",
    "    cor_feature = X.iloc[:,np.argsort(np.abs(cor_list))[-50:]].columns.tolist()\n",
    "    # feature selection? 0 for not select, 1 for select\n",
    "    cor_support = [True if i in cor_feature else False for i in feature_name]\n",
    "    return cor_support, cor_feature"
   ]
  },
  {
   "cell_type": "code",
   "execution_count": null,
   "id": "51d78328",
   "metadata": {
    "execution": {
     "iopub.execute_input": "2022-12-29T18:05:36.187075Z",
     "iopub.status.busy": "2022-12-29T18:05:36.186308Z",
     "iopub.status.idle": "2022-12-29T18:05:36.818139Z",
     "shell.execute_reply": "2022-12-29T18:05:36.816078Z"
    },
    "papermill": {
     "duration": 0.720272,
     "end_time": "2022-12-29T18:05:36.821626",
     "exception": false,
     "start_time": "2022-12-29T18:05:36.101354",
     "status": "completed"
    },
    "tags": []
   },
   "outputs": [],
   "source": [
    "cor_support, cor_feature =cor_selector(X, y)"
   ]
  },
  {
   "cell_type": "code",
   "execution_count": null,
   "id": "dcf89548",
   "metadata": {
    "execution": {
     "iopub.execute_input": "2022-12-29T18:05:36.987831Z",
     "iopub.status.busy": "2022-12-29T18:05:36.987351Z",
     "iopub.status.idle": "2022-12-29T18:05:36.997613Z",
     "shell.execute_reply": "2022-12-29T18:05:36.995966Z"
    },
    "papermill": {
     "duration": 0.096855,
     "end_time": "2022-12-29T18:05:37.000354",
     "exception": false,
     "start_time": "2022-12-29T18:05:36.903499",
     "status": "completed"
    },
    "tags": []
   },
   "outputs": [],
   "source": [
    "# feature not matched between Correlation analysis and T-test\n",
    "not_matched = [i for i in cor_feature if  i not in reject_null_hypo ]\n",
    "not_matched"
   ]
  },
  {
   "cell_type": "code",
   "execution_count": null,
   "id": "b029e676",
   "metadata": {
    "execution": {
     "iopub.execute_input": "2022-12-29T18:05:37.166007Z",
     "iopub.status.busy": "2022-12-29T18:05:37.165533Z",
     "iopub.status.idle": "2022-12-29T18:05:37.174270Z",
     "shell.execute_reply": "2022-12-29T18:05:37.173096Z"
    },
    "papermill": {
     "duration": 0.092805,
     "end_time": "2022-12-29T18:05:37.177153",
     "exception": false,
     "start_time": "2022-12-29T18:05:37.084348",
     "status": "completed"
    },
    "tags": []
   },
   "outputs": [],
   "source": [
    "# feature  matched between Correlation analysis and T-test\n",
    "matched = [i for i in cor_feature if  i  in reject_null_hypo ]\n",
    "matched"
   ]
  },
  {
   "cell_type": "code",
   "execution_count": null,
   "id": "7ee9892f",
   "metadata": {
    "execution": {
     "iopub.execute_input": "2022-12-29T18:05:37.350134Z",
     "iopub.status.busy": "2022-12-29T18:05:37.349666Z",
     "iopub.status.idle": "2022-12-29T18:05:37.383665Z",
     "shell.execute_reply": "2022-12-29T18:05:37.382552Z"
    },
    "papermill": {
     "duration": 0.125765,
     "end_time": "2022-12-29T18:05:37.386602",
     "exception": false,
     "start_time": "2022-12-29T18:05:37.260837",
     "status": "completed"
    },
    "tags": []
   },
   "outputs": [],
   "source": [
    "# Generate the Dataframe of selected features\n",
    "\n",
    "df_numerical = df_imputed_new[matched]"
   ]
  },
  {
   "cell_type": "markdown",
   "id": "d9ec6460",
   "metadata": {},
   "source": [
    "# df_numerical= df des features de df_imputed_new corellees"
   ]
  },
  {
   "cell_type": "code",
   "execution_count": null,
   "id": "0a530913",
   "metadata": {
    "papermill": {
     "duration": 0.083749,
     "end_time": "2022-12-29T18:05:38.208962",
     "exception": false,
     "start_time": "2022-12-29T18:05:38.125213",
     "status": "completed"
    },
    "tags": []
   },
   "outputs": [],
   "source": [
    "df_numerical"
   ]
  },
  {
   "cell_type": "code",
   "execution_count": null,
   "id": "3e95f138",
   "metadata": {
    "papermill": {
     "duration": 0.081608,
     "end_time": "2022-12-29T18:05:38.542065",
     "exception": false,
     "start_time": "2022-12-29T18:05:38.460457",
     "status": "completed"
    },
    "tags": []
   },
   "outputs": [],
   "source": []
  },
  {
   "cell_type": "markdown",
   "id": "395e0ead",
   "metadata": {
    "papermill": {
     "duration": 0.082052,
     "end_time": "2022-12-29T18:05:38.704507",
     "exception": false,
     "start_time": "2022-12-29T18:05:38.622455",
     "status": "completed"
    },
    "tags": []
   },
   "source": [
    "## Visualize The Relationship between selected features and the target "
   ]
  },
  {
   "cell_type": "code",
   "execution_count": null,
   "id": "5d3d2d3c",
   "metadata": {
    "execution": {
     "iopub.execute_input": "2022-12-29T18:05:38.870896Z",
     "iopub.status.busy": "2022-12-29T18:05:38.869360Z",
     "iopub.status.idle": "2022-12-29T18:05:38.880179Z",
     "shell.execute_reply": "2022-12-29T18:05:38.879058Z"
    },
    "papermill": {
     "duration": 0.097253,
     "end_time": "2022-12-29T18:05:38.883884",
     "exception": false,
     "start_time": "2022-12-29T18:05:38.786631",
     "status": "completed"
    },
    "tags": []
   },
   "outputs": [],
   "source": [
    "# Plots the disribution of a variable colored by value of the target\n",
    "def kde_target(var_name, df):\n",
    "    \n",
    "    # Calculate the correlation coefficient between the new variable and the target\n",
    "    corr = df['TARGET'].corr(df[var_name])\n",
    "    \n",
    "    # Calculate medians for repaid vs not repaid\n",
    "    avg_repaid = df.loc[(df['TARGET'] == 0)][var_name].median()\n",
    "    avg_not_repaid = df.loc[(df['TARGET'] == 1)][var_name].median()\n",
    "    \n",
    "    plt.figure(figsize = (12, 6))\n",
    "    \n",
    "    # Plot the distribution for target == 0 and target == 1\n",
    "    sns.kdeplot(df.loc[(df['TARGET'] == 0)][var_name], label = 'TARGET == 0')\n",
    "    sns.kdeplot(df.loc[(df['TARGET'] == 1)][var_name], label = 'TARGET == 1')\n",
    "    \n",
    "    # label the plot\n",
    "    plt.xlabel(var_name); plt.ylabel('Density'); plt.title('%s Distribution' % var_name)\n",
    "    plt.legend();\n",
    "    \n",
    "    # print out the correlation\n",
    "    print('The correlation between %s and the TARGET is %0.4f' % (var_name, corr))\n",
    "    # Print out average values\n",
    "    print('Median value for loan that was not repaid = %0.4f' % avg_not_repaid)\n",
    "    print('Median value for loan that was repaid =     %0.4f' % avg_repaid)"
   ]
  },
  {
   "cell_type": "code",
   "execution_count": null,
   "id": "dcb785a4",
   "metadata": {
    "execution": {
     "iopub.execute_input": "2022-12-29T18:05:39.048336Z",
     "iopub.status.busy": "2022-12-29T18:05:39.047656Z",
     "iopub.status.idle": "2022-12-29T18:06:39.479369Z",
     "shell.execute_reply": "2022-12-29T18:06:39.478146Z"
    },
    "papermill": {
     "duration": 60.632844,
     "end_time": "2022-12-29T18:06:39.596307",
     "exception": false,
     "start_time": "2022-12-29T18:05:38.963463",
     "status": "completed"
    },
    "tags": []
   },
   "outputs": [],
   "source": [
    "import warnings\n",
    "warnings.filterwarnings('ignore')\n",
    "\n",
    "sns.set_theme(style=\"whitegrid\")\n",
    "gs = gridspec.GridSpec(12, 4)\n",
    "\n",
    "# Initialize the matplotlib figure\n",
    "f, ax = plt.subplots(figsize=(18,120))\n",
    "\n",
    "columns = df_numerical.columns.values\n",
    "c = 0\n",
    "for i in range(12):\n",
    "    for j in range (4):\n",
    "        ax = plt.subplot(gs[i, j])\n",
    "#         kde_target(columns[c], df_imputed_new)\n",
    "        \n",
    "        # Plot the distribution for target == 0 and target == 1\n",
    "        sns.kdeplot(df_imputed_new.loc[(df_imputed_new['TARGET'] == 0)][columns[c]], label = 'TARGET == 0')\n",
    "        sns.kdeplot(df_imputed_new.loc[(df_imputed_new['TARGET'] == 1)][columns[c]], label = 'TARGET == 1')\n",
    "\n",
    "        # label the plot\n",
    "        plt.xlabel(columns[c]); plt.ylabel('Density'); plt.title('%s Distribution' % columns[c])\n",
    "        plt.legend();\n",
    "        \n",
    "        if c==len(columns)-1:\n",
    "            break\n",
    "        c+=1"
   ]
  },
  {
   "cell_type": "markdown",
   "id": "fe948931",
   "metadata": {
    "papermill": {
     "duration": 0.095813,
     "end_time": "2022-12-29T18:06:40.582211",
     "exception": false,
     "start_time": "2022-12-29T18:06:40.486398",
     "status": "completed"
    },
    "tags": []
   },
   "source": [
    "# **Categorical variables**"
   ]
  },
  {
   "cell_type": "markdown",
   "id": "fa775df1",
   "metadata": {
    "papermill": {
     "duration": 0.101487,
     "end_time": "2022-12-29T18:06:40.780579",
     "exception": false,
     "start_time": "2022-12-29T18:06:40.679092",
     "status": "completed"
    },
    "tags": []
   },
   "source": [
    "### ***Chi-sqaure test for Categorical variables null hupothesis: p-value < .05***\n",
    "\n"
   ]
  },
  {
   "cell_type": "code",
   "execution_count": null,
   "id": "28300880",
   "metadata": {
    "execution": {
     "iopub.execute_input": "2022-12-29T18:06:40.977711Z",
     "iopub.status.busy": "2022-12-29T18:06:40.977219Z",
     "iopub.status.idle": "2022-12-29T18:06:42.085129Z",
     "shell.execute_reply": "2022-12-29T18:06:42.083625Z"
    },
    "papermill": {
     "duration": 1.210959,
     "end_time": "2022-12-29T18:06:42.089219",
     "exception": false,
     "start_time": "2022-12-29T18:06:40.878260",
     "status": "completed"
    },
    "tags": []
   },
   "outputs": [],
   "source": [
    "import scipy\n",
    "\n",
    "columns =df_categorical.columns.values\n",
    "\n",
    "for col in columns:\n",
    "    chi_square_args = pd.crosstab(df_categorical[col], df_train['TARGET']).values\n",
    "\n",
    "    _, p_value, _, _ = scipy.stats.chi2_contingency(chi_square_args)\n",
    "    print(f\"The P-value for {col} = \" ,p_value)"
   ]
  },
  {
   "cell_type": "markdown",
   "id": "68f71ffa",
   "metadata": {},
   "source": [
    "# toutes les p-value sont inferieures à .05 "
   ]
  },
  {
   "cell_type": "markdown",
   "id": "bbe09169",
   "metadata": {},
   "source": [
    "# get dummies"
   ]
  },
  {
   "cell_type": "code",
   "execution_count": null,
   "id": "27d7a6e4",
   "metadata": {
    "execution": {
     "iopub.execute_input": "2022-12-29T18:06:42.770684Z",
     "iopub.status.busy": "2022-12-29T18:06:42.770203Z",
     "iopub.status.idle": "2022-12-29T18:06:43.549543Z",
     "shell.execute_reply": "2022-12-29T18:06:43.547998Z"
    },
    "papermill": {
     "duration": 0.879918,
     "end_time": "2022-12-29T18:06:43.552701",
     "exception": false,
     "start_time": "2022-12-29T18:06:42.672783",
     "status": "completed"
    },
    "tags": []
   },
   "outputs": [],
   "source": [
    "\n",
    "df_categorical_new = pd.get_dummies(df_categorical)\n",
    "\n",
    "print('Features shape: ', df_categorical.shape)\n",
    "print('new Features shape: ', df_categorical_new.shape)"
   ]
  },
  {
   "cell_type": "code",
   "execution_count": null,
   "id": "3c57d42d",
   "metadata": {
    "execution": {
     "iopub.execute_input": "2022-12-29T18:06:43.750883Z",
     "iopub.status.busy": "2022-12-29T18:06:43.750242Z",
     "iopub.status.idle": "2022-12-29T18:06:43.789413Z",
     "shell.execute_reply": "2022-12-29T18:06:43.787712Z"
    },
    "papermill": {
     "duration": 0.141384,
     "end_time": "2022-12-29T18:06:43.792576",
     "exception": false,
     "start_time": "2022-12-29T18:06:43.651192",
     "status": "completed"
    },
    "tags": []
   },
   "outputs": [],
   "source": [
    "df_categorical_new"
   ]
  },
  {
   "cell_type": "code",
   "execution_count": null,
   "id": "3abb56db",
   "metadata": {
    "execution": {
     "iopub.execute_input": "2022-12-29T18:06:43.996052Z",
     "iopub.status.busy": "2022-12-29T18:06:43.994843Z",
     "iopub.status.idle": "2022-12-29T18:06:44.007379Z",
     "shell.execute_reply": "2022-12-29T18:06:44.006009Z"
    },
    "papermill": {
     "duration": 0.116204,
     "end_time": "2022-12-29T18:06:44.010638",
     "exception": false,
     "start_time": "2022-12-29T18:06:43.894434",
     "status": "completed"
    },
    "tags": []
   },
   "outputs": [],
   "source": [
    "id = df_imputed_new[\"SK_ID_CURR\"]\n",
    "id"
   ]
  },
  {
   "cell_type": "markdown",
   "id": "18257c1c",
   "metadata": {
    "papermill": {
     "duration": 0.102,
     "end_time": "2022-12-29T18:06:44.214254",
     "exception": false,
     "start_time": "2022-12-29T18:06:44.112254",
     "status": "completed"
    },
    "tags": []
   },
   "source": [
    "# à present df_train = concat get dummies et df_numerical"
   ]
  },
  {
   "cell_type": "code",
   "execution_count": null,
   "id": "7438097e",
   "metadata": {
    "execution": {
     "iopub.execute_input": "2022-12-29T18:06:44.418460Z",
     "iopub.status.busy": "2022-12-29T18:06:44.417967Z",
     "iopub.status.idle": "2022-12-29T18:06:44.460904Z",
     "shell.execute_reply": "2022-12-29T18:06:44.459409Z"
    },
    "papermill": {
     "duration": 0.147998,
     "end_time": "2022-12-29T18:06:44.464160",
     "exception": false,
     "start_time": "2022-12-29T18:06:44.316162",
     "status": "completed"
    },
    "tags": []
   },
   "outputs": [],
   "source": [
    "df_train = pd.concat([df_categorical_new,df_numerical],axis = 1)"
   ]
  },
  {
   "cell_type": "code",
   "execution_count": null,
   "id": "08c3c6a0",
   "metadata": {
    "execution": {
     "iopub.execute_input": "2022-12-29T18:06:44.670999Z",
     "iopub.status.busy": "2022-12-29T18:06:44.669705Z",
     "iopub.status.idle": "2022-12-29T18:06:44.679672Z",
     "shell.execute_reply": "2022-12-29T18:06:44.678035Z"
    },
    "papermill": {
     "duration": 0.12242,
     "end_time": "2022-12-29T18:06:44.683076",
     "exception": false,
     "start_time": "2022-12-29T18:06:44.560656",
     "status": "completed"
    },
    "tags": []
   },
   "outputs": [],
   "source": [
    "df_train.shape"
   ]
  },
  {
   "cell_type": "code",
   "execution_count": null,
   "id": "a325985e",
   "metadata": {
    "papermill": {
     "duration": 0.106204,
     "end_time": "2022-12-29T18:06:44.892274",
     "exception": false,
     "start_time": "2022-12-29T18:06:44.786070",
     "status": "completed"
    },
    "tags": []
   },
   "outputs": [],
   "source": []
  },
  {
   "cell_type": "markdown",
   "id": "6f0f8876",
   "metadata": {
    "papermill": {
     "duration": 0.105629,
     "end_time": "2022-12-29T18:06:45.106612",
     "exception": false,
     "start_time": "2022-12-29T18:06:45.000983",
     "status": "completed"
    },
    "tags": []
   },
   "source": [
    "# Reading test data"
   ]
  },
  {
   "cell_type": "code",
   "execution_count": null,
   "id": "e46e007d",
   "metadata": {
    "execution": {
     "iopub.execute_input": "2022-12-29T18:06:45.305132Z",
     "iopub.status.busy": "2022-12-29T18:06:45.303340Z",
     "iopub.status.idle": "2022-12-29T18:06:46.087282Z",
     "shell.execute_reply": "2022-12-29T18:06:46.085894Z"
    },
    "papermill": {
     "duration": 0.886486,
     "end_time": "2022-12-29T18:06:46.091043",
     "exception": false,
     "start_time": "2022-12-29T18:06:45.204557",
     "status": "completed"
    },
    "tags": []
   },
   "outputs": [],
   "source": [
    "#Read Test dataframe\n",
    "df_test = pd.read_csv('Projet+Mise+en+prod+-+home-credit-default-risk/application_test.csv')"
   ]
  },
  {
   "cell_type": "code",
   "execution_count": null,
   "id": "959c135a",
   "metadata": {
    "execution": {
     "iopub.execute_input": "2022-12-29T18:06:46.300397Z",
     "iopub.status.busy": "2022-12-29T18:06:46.299989Z",
     "iopub.status.idle": "2022-12-29T18:06:46.334228Z",
     "shell.execute_reply": "2022-12-29T18:06:46.332375Z"
    },
    "papermill": {
     "duration": 0.138744,
     "end_time": "2022-12-29T18:06:46.337119",
     "exception": false,
     "start_time": "2022-12-29T18:06:46.198375",
     "status": "completed"
    },
    "tags": []
   },
   "outputs": [],
   "source": [
    "df_test.head()"
   ]
  },
  {
   "cell_type": "code",
   "execution_count": null,
   "id": "779d3748",
   "metadata": {
    "execution": {
     "iopub.execute_input": "2022-12-29T18:06:46.548345Z",
     "iopub.status.busy": "2022-12-29T18:06:46.547006Z",
     "iopub.status.idle": "2022-12-29T18:06:46.555502Z",
     "shell.execute_reply": "2022-12-29T18:06:46.554074Z"
    },
    "papermill": {
     "duration": 0.116957,
     "end_time": "2022-12-29T18:06:46.558280",
     "exception": false,
     "start_time": "2022-12-29T18:06:46.441323",
     "status": "completed"
    },
    "tags": []
   },
   "outputs": [],
   "source": [
    "# Testing data features\n",
    "df_test.head()\n",
    "print('Testing data shape: ', df_test.shape)\n"
   ]
  },
  {
   "cell_type": "code",
   "execution_count": null,
   "id": "b68a932b",
   "metadata": {
    "execution": {
     "iopub.execute_input": "2022-12-29T18:06:46.762331Z",
     "iopub.status.busy": "2022-12-29T18:06:46.761889Z",
     "iopub.status.idle": "2022-12-29T18:06:46.992932Z",
     "shell.execute_reply": "2022-12-29T18:06:46.991334Z"
    },
    "papermill": {
     "duration": 0.340702,
     "end_time": "2022-12-29T18:06:46.996805",
     "exception": false,
     "start_time": "2022-12-29T18:06:46.656103",
     "status": "completed"
    },
    "tags": []
   },
   "outputs": [],
   "source": [
    "df_test_new = df_test.copy()\n",
    "df_test_new = pd.get_dummies(df_test_new)\n",
    "print('new Features shape before dropping : ', df_test_new.shape)\n",
    "df_test_new = df_test_new.drop(columns = not_matched)\n",
    "print('new Features shape: ', df_test_new.shape)"
   ]
  },
  {
   "cell_type": "code",
   "execution_count": null,
   "id": "6d8636bd",
   "metadata": {
    "execution": {
     "iopub.execute_input": "2022-12-29T18:06:47.202324Z",
     "iopub.status.busy": "2022-12-29T18:06:47.201867Z",
     "iopub.status.idle": "2022-12-29T18:06:47.240960Z",
     "shell.execute_reply": "2022-12-29T18:06:47.239143Z"
    },
    "papermill": {
     "duration": 0.145697,
     "end_time": "2022-12-29T18:06:47.244125",
     "exception": false,
     "start_time": "2022-12-29T18:06:47.098428",
     "status": "completed"
    },
    "tags": []
   },
   "outputs": [],
   "source": [
    "df_test_new"
   ]
  },
  {
   "cell_type": "code",
   "execution_count": null,
   "id": "bbd38145",
   "metadata": {
    "execution": {
     "iopub.execute_input": "2022-12-29T18:06:47.451192Z",
     "iopub.status.busy": "2022-12-29T18:06:47.450718Z",
     "iopub.status.idle": "2022-12-29T18:06:47.464889Z",
     "shell.execute_reply": "2022-12-29T18:06:47.462479Z"
    },
    "papermill": {
     "duration": 0.123731,
     "end_time": "2022-12-29T18:06:47.468176",
     "exception": false,
     "start_time": "2022-12-29T18:06:47.344445",
     "status": "completed"
    },
    "tags": []
   },
   "outputs": [],
   "source": [
    "x = [ i for i in df_train.columns.values if i not in df_test_new.columns.values]\n",
    "x"
   ]
  },
  {
   "cell_type": "code",
   "execution_count": null,
   "id": "d4dd38c4",
   "metadata": {
    "execution": {
     "iopub.execute_input": "2022-12-29T18:06:47.681244Z",
     "iopub.status.busy": "2022-12-29T18:06:47.678731Z",
     "iopub.status.idle": "2022-12-29T18:06:47.696825Z",
     "shell.execute_reply": "2022-12-29T18:06:47.695332Z"
    },
    "papermill": {
     "duration": 0.130216,
     "end_time": "2022-12-29T18:06:47.700209",
     "exception": false,
     "start_time": "2022-12-29T18:06:47.569993",
     "status": "completed"
    },
    "tags": []
   },
   "outputs": [],
   "source": [
    "x = [ i for i in  df_test_new.columns.values  if i not in df_train.columns.values]\n",
    "x"
   ]
  },
  {
   "cell_type": "code",
   "execution_count": null,
   "id": "2e5c59d5",
   "metadata": {
    "execution": {
     "iopub.execute_input": "2022-12-29T18:06:47.915783Z",
     "iopub.status.busy": "2022-12-29T18:06:47.914393Z",
     "iopub.status.idle": "2022-12-29T18:06:48.125778Z",
     "shell.execute_reply": "2022-12-29T18:06:48.123476Z"
    },
    "papermill": {
     "duration": 0.318563,
     "end_time": "2022-12-29T18:06:48.129460",
     "exception": false,
     "start_time": "2022-12-29T18:06:47.810897",
     "status": "completed"
    },
    "tags": []
   },
   "outputs": [],
   "source": [
    "train_labels = df_imputed_new['TARGET']\n",
    "\n",
    "# Align the training and testing data, keep only columns present in both dataframes\n",
    "df_train, df_test_new = df_train.align(df_test_new, join = 'inner', axis = 1)\n",
    "\n",
    "# Add the target back in\n",
    "\n",
    "print('Training Features shape: ', df_train.shape)\n",
    "print('Testing Features shape: ', df_test_new.shape)"
   ]
  },
  {
   "cell_type": "code",
   "execution_count": null,
   "id": "289f8a12",
   "metadata": {},
   "outputs": [],
   "source": [
    "df_train"
   ]
  },
  {
   "cell_type": "code",
   "execution_count": null,
   "id": "e52f50c8",
   "metadata": {},
   "outputs": [],
   "source": [
    "df_test_new"
   ]
  },
  {
   "cell_type": "code",
   "execution_count": null,
   "id": "b960c736",
   "metadata": {},
   "outputs": [],
   "source": [
    "train_labels"
   ]
  },
  {
   "cell_type": "code",
   "execution_count": null,
   "id": "aa5df8af",
   "metadata": {},
   "outputs": [],
   "source": []
  },
  {
   "cell_type": "code",
   "execution_count": null,
   "id": "d1e8aaec",
   "metadata": {},
   "outputs": [],
   "source": []
  },
  {
   "cell_type": "raw",
   "id": "42256346",
   "metadata": {},
   "source": []
  },
  {
   "cell_type": "markdown",
   "id": "0c9d056e",
   "metadata": {
    "papermill": {
     "duration": 0.100391,
     "end_time": "2022-12-29T18:06:48.332194",
     "exception": false,
     "start_time": "2022-12-29T18:06:48.231803",
     "status": "completed"
    },
    "tags": []
   },
   "source": [
    "# Reading other files"
   ]
  },
  {
   "cell_type": "code",
   "execution_count": null,
   "id": "611bd645",
   "metadata": {
    "execution": {
     "iopub.execute_input": "2022-12-29T18:06:48.537035Z",
     "iopub.status.busy": "2022-12-29T18:06:48.535615Z",
     "iopub.status.idle": "2022-12-29T18:06:48.543604Z",
     "shell.execute_reply": "2022-12-29T18:06:48.542410Z"
    },
    "papermill": {
     "duration": 0.115531,
     "end_time": "2022-12-29T18:06:48.547179",
     "exception": false,
     "start_time": "2022-12-29T18:06:48.431648",
     "status": "completed"
    },
    "tags": []
   },
   "outputs": [],
   "source": [
    "# run functions and pre_settings\n",
    "def one_hot_encoder(df, nan_as_category=True):\n",
    "    original_columns = list(df.columns)\n",
    "    categorical_columns = [col for col in df.columns if df[col].dtype == 'object']\n",
    "    df = pd.get_dummies(df, columns=categorical_columns, dummy_na=nan_as_category)\n",
    "    new_columns = [c for c in df.columns if c not in original_columns]\n",
    "    return df, new_columns"
   ]
  },
  {
   "cell_type": "code",
   "execution_count": null,
   "id": "e0f907a5",
   "metadata": {
    "execution": {
     "iopub.execute_input": "2022-12-29T18:06:48.743634Z",
     "iopub.status.busy": "2022-12-29T18:06:48.742786Z",
     "iopub.status.idle": "2022-12-29T18:06:48.766217Z",
     "shell.execute_reply": "2022-12-29T18:06:48.765054Z"
    },
    "papermill": {
     "duration": 0.123742,
     "end_time": "2022-12-29T18:06:48.769004",
     "exception": false,
     "start_time": "2022-12-29T18:06:48.645262",
     "status": "completed"
    },
    "tags": []
   },
   "outputs": [],
   "source": [
    "def bureau_bb():\n",
    "    bureau = pd.read_csv('Projet+Mise+en+prod+-+home-credit-default-risk/bureau.csv')\n",
    "    bb = pd.read_csv('Projet+Mise+en+prod+-+home-credit-default-risk/bureau_balance.csv')\n",
    "\n",
    "    # Credit duration and credit/account end date difference\n",
    "    bureau['CREDIT_DURATION'] = -bureau['DAYS_CREDIT'] + bureau['DAYS_CREDIT_ENDDATE']\n",
    "    bureau['ENDDATE_DIF'] = bureau['DAYS_CREDIT_ENDDATE'] - bureau['DAYS_ENDDATE_FACT']\n",
    "    \n",
    "    # Credit to debt ratio and difference\n",
    "    bureau['DEBT_PERCENTAGE'] = bureau['AMT_CREDIT_SUM'] / bureau['AMT_CREDIT_SUM_DEBT']\n",
    "    bureau['DEBT_CREDIT_DIFF'] = bureau['AMT_CREDIT_SUM'] - bureau['AMT_CREDIT_SUM_DEBT']\n",
    "    bureau['CREDIT_TO_ANNUITY_RATIO'] = bureau['AMT_CREDIT_SUM'] / bureau['AMT_ANNUITY']\n",
    "    bureau['BUREAU_CREDIT_FACT_DIFF'] = bureau['DAYS_CREDIT'] - bureau['DAYS_ENDDATE_FACT']\n",
    "    bureau['BUREAU_CREDIT_ENDDATE_DIFF'] = bureau['DAYS_CREDIT'] - bureau['DAYS_CREDIT_ENDDATE']\n",
    "    bureau['BUREAU_CREDIT_DEBT_RATIO'] = bureau['AMT_CREDIT_SUM_DEBT'] / bureau['AMT_CREDIT_SUM']\n",
    "\n",
    "    # CREDIT_DAY_OVERDUE :\n",
    "    bureau['BUREAU_IS_DPD'] = bureau['CREDIT_DAY_OVERDUE'].apply(lambda x: 1 if x > 0 else 0)\n",
    "    bureau['BUREAU_IS_DPD_OVER120'] = bureau['CREDIT_DAY_OVERDUE'].apply(lambda x: 1 if x > 120 else 0)\n",
    "    \n",
    "    nan_as_category = True\n",
    "\n",
    "    bb, bb_cat = one_hot_encoder(bb, nan_as_category)\n",
    "    bureau, bureau_cat = one_hot_encoder(bureau, nan_as_category)\n",
    "\n",
    "    # Bureau balance: Perform aggregations and merge with bureau.csv\n",
    "    bb_aggregations = {'MONTHS_BALANCE': ['min', 'max', 'size', 'mean']}\n",
    "    for col in bb_cat:\n",
    "        bb_aggregations[col] = ['mean']\n",
    "\n",
    "    #Status of Credit Bureau loan during the month\n",
    "    bb_agg = bb.groupby('SK_ID_BUREAU').agg(bb_aggregations)\n",
    "    bb_agg.columns = pd.Index([e[0] + \"_\" + e[1].upper() for e in bb_agg.columns.tolist()])\n",
    "    bureau = bureau.join(bb_agg, how='left', on='SK_ID_BUREAU')\n",
    "\n",
    "    # Bureau and bureau_balance numeric features\n",
    "    num_aggregations = {\n",
    "        'DAYS_CREDIT': ['min', 'max', 'mean', 'var'],\n",
    "        'DAYS_CREDIT_ENDDATE': ['min', 'max', 'mean'],\n",
    "        'DAYS_CREDIT_UPDATE': ['mean'],\n",
    "        'CREDIT_DAY_OVERDUE': ['max', 'mean', 'min'],\n",
    "        'AMT_CREDIT_MAX_OVERDUE': ['mean', 'max'],\n",
    "        'AMT_CREDIT_SUM': ['max', 'mean', 'sum'],\n",
    "        'AMT_CREDIT_SUM_DEBT': ['max', 'mean', 'sum'],\n",
    "        'AMT_CREDIT_SUM_OVERDUE': ['mean', 'max', 'sum'],\n",
    "        'AMT_CREDIT_SUM_LIMIT': ['mean', 'sum'],\n",
    "        'AMT_ANNUITY': ['max', 'mean', 'sum'],\n",
    "        'CNT_CREDIT_PROLONG': ['sum'],\n",
    "        'MONTHS_BALANCE_MIN': ['min'],\n",
    "        'MONTHS_BALANCE_MAX': ['max'],\n",
    "        'MONTHS_BALANCE_SIZE': ['mean', 'sum'],\n",
    "        'SK_ID_BUREAU': ['count'],\n",
    "        'DAYS_ENDDATE_FACT': ['min', 'max', 'mean'],\n",
    "        'ENDDATE_DIF': ['min', 'max', 'mean'],\n",
    "        'BUREAU_CREDIT_FACT_DIFF': ['min', 'max', 'mean'],\n",
    "        'BUREAU_CREDIT_ENDDATE_DIFF': ['min', 'max', 'mean'],\n",
    "        'BUREAU_CREDIT_DEBT_RATIO': ['min', 'max', 'mean'],\n",
    "        'DEBT_CREDIT_DIFF': ['min', 'max', 'mean'],\n",
    "        'BUREAU_IS_DPD': ['mean', 'sum'],\n",
    "        'BUREAU_IS_DPD_OVER120': ['mean', 'sum']\n",
    "        }\n",
    "\n",
    "    # Bureau and bureau_balance categorical features\n",
    "    cat_aggregations = {}\n",
    "    for cat in bureau_cat: cat_aggregations[cat] = ['mean']\n",
    "    for cat in bb_cat: cat_aggregations[cat + \"_MEAN\"] = ['mean']\n",
    "    bureau_agg = bureau.groupby('SK_ID_CURR').agg({**num_aggregations, **cat_aggregations})\n",
    "    bureau_agg.columns = pd.Index(['BURO_' + e[0] + \"_\" + e[1].upper() for e in bureau_agg.columns.tolist()])\n",
    "\n",
    "    # Bureau: Active credits - using only numerical aggregations\n",
    "    active = bureau[bureau['CREDIT_ACTIVE_Active'] == 1]\n",
    "    active_agg = active.groupby('SK_ID_CURR').agg(num_aggregations)\n",
    "    active_agg.columns = pd.Index(['ACTIVE_' + e[0] + \"_\" + e[1].upper() for e in active_agg.columns.tolist()])\n",
    "    bureau_agg = bureau_agg.join(active_agg, how='left', on='SK_ID_CURR')\n",
    "\n",
    "    # Bureau: Closed credits - using only numerical aggregations\n",
    "    closed = bureau[bureau['CREDIT_ACTIVE_Closed'] == 1]\n",
    "    closed_agg = closed.groupby('SK_ID_CURR').agg(num_aggregations)\n",
    "    closed_agg.columns = pd.Index(['CLOSED_' + e[0] + \"_\" + e[1].upper() for e in closed_agg.columns.tolist()])\n",
    "    bureau_agg = bureau_agg.join(closed_agg, how='left', on='SK_ID_CURR')\n",
    "\n",
    "    print('\"Bureau/Bureau Balance\" final shape:', bureau_agg.shape)\n",
    "    return bureau_agg\n"
   ]
  },
  {
   "cell_type": "code",
   "execution_count": null,
   "id": "efed1c54",
   "metadata": {
    "papermill": {
     "duration": 0.096499,
     "end_time": "2022-12-29T18:06:48.962688",
     "exception": false,
     "start_time": "2022-12-29T18:06:48.866189",
     "status": "completed"
    },
    "tags": []
   },
   "outputs": [],
   "source": []
  },
  {
   "cell_type": "markdown",
   "id": "5fc94b85",
   "metadata": {
    "papermill": {
     "duration": 0.097671,
     "end_time": "2022-12-29T18:06:49.161715",
     "exception": false,
     "start_time": "2022-12-29T18:06:49.064044",
     "status": "completed"
    },
    "tags": []
   },
   "source": [
    "## View new Features"
   ]
  },
  {
   "cell_type": "code",
   "execution_count": null,
   "id": "7a018e3c",
   "metadata": {
    "execution": {
     "iopub.execute_input": "2022-12-29T18:06:49.363021Z",
     "iopub.status.busy": "2022-12-29T18:06:49.361915Z",
     "iopub.status.idle": "2022-12-29T18:07:30.005300Z",
     "shell.execute_reply": "2022-12-29T18:07:30.003333Z"
    },
    "papermill": {
     "duration": 40.846581,
     "end_time": "2022-12-29T18:07:30.107408",
     "exception": false,
     "start_time": "2022-12-29T18:06:49.260827",
     "status": "completed"
    },
    "tags": []
   },
   "outputs": [],
   "source": [
    "\n",
    "New_df = bureau_bb()"
   ]
  },
  {
   "cell_type": "code",
   "execution_count": null,
   "id": "302ed857",
   "metadata": {
    "execution": {
     "iopub.execute_input": "2022-12-29T18:07:30.306097Z",
     "iopub.status.busy": "2022-12-29T18:07:30.304340Z",
     "iopub.status.idle": "2022-12-29T18:07:30.338627Z",
     "shell.execute_reply": "2022-12-29T18:07:30.336574Z"
    },
    "papermill": {
     "duration": 0.135209,
     "end_time": "2022-12-29T18:07:30.342178",
     "exception": false,
     "start_time": "2022-12-29T18:07:30.206969",
     "status": "completed"
    },
    "tags": []
   },
   "outputs": [],
   "source": [
    "New_df.head()"
   ]
  },
  {
   "cell_type": "markdown",
   "id": "e76794d3",
   "metadata": {
    "papermill": {
     "duration": 0.096801,
     "end_time": "2022-12-29T18:07:30.538032",
     "exception": false,
     "start_time": "2022-12-29T18:07:30.441231",
     "status": "completed"
    },
    "tags": []
   },
   "source": [
    "## Analysis For The new Features and Wheather they are More Correlated to the Target Variable"
   ]
  },
  {
   "cell_type": "code",
   "execution_count": null,
   "id": "6315db23",
   "metadata": {
    "execution": {
     "iopub.execute_input": "2022-12-29T18:07:30.743106Z",
     "iopub.status.busy": "2022-12-29T18:07:30.742188Z",
     "iopub.status.idle": "2022-12-29T18:08:11.583415Z",
     "shell.execute_reply": "2022-12-29T18:08:11.581383Z"
    },
    "papermill": {
     "duration": 40.949167,
     "end_time": "2022-12-29T18:08:11.586450",
     "exception": false,
     "start_time": "2022-12-29T18:07:30.637283",
     "status": "completed"
    },
    "tags": []
   },
   "outputs": [],
   "source": [
    "df_trainx = pd.read_csv(\"Projet+Mise+en+prod+-+home-credit-default-risk/application_train.csv\")\n",
    "\n",
    "df_train_new = df_trainx[[\"SK_ID_CURR\",\"TARGET\"]].merge(bureau_bb(), how='left', on='SK_ID_CURR')\n"
   ]
  },
  {
   "cell_type": "code",
   "execution_count": null,
   "id": "9a3f16dc",
   "metadata": {
    "papermill": {
     "duration": 0.101322,
     "end_time": "2022-12-29T18:08:11.793668",
     "exception": false,
     "start_time": "2022-12-29T18:08:11.692346",
     "status": "completed"
    },
    "tags": []
   },
   "outputs": [],
   "source": []
  },
  {
   "cell_type": "code",
   "execution_count": null,
   "id": "df8cecd1",
   "metadata": {
    "execution": {
     "iopub.execute_input": "2022-12-29T18:08:11.996888Z",
     "iopub.status.busy": "2022-12-29T18:08:11.995837Z",
     "iopub.status.idle": "2022-12-29T18:08:12.005116Z",
     "shell.execute_reply": "2022-12-29T18:08:12.003112Z"
    },
    "papermill": {
     "duration": 0.11395,
     "end_time": "2022-12-29T18:08:12.008398",
     "exception": false,
     "start_time": "2022-12-29T18:08:11.894448",
     "status": "completed"
    },
    "tags": []
   },
   "outputs": [],
   "source": [
    "df_train_new.shape"
   ]
  },
  {
   "cell_type": "markdown",
   "id": "c0588c0d",
   "metadata": {
    "papermill": {
     "duration": 0.104432,
     "end_time": "2022-12-29T18:08:12.219171",
     "exception": false,
     "start_time": "2022-12-29T18:08:12.114739",
     "status": "completed"
    },
    "tags": []
   },
   "source": [
    "### **Visualize The Correlation between the new Features and the target**"
   ]
  },
  {
   "cell_type": "code",
   "execution_count": null,
   "id": "f712b0ab",
   "metadata": {
    "execution": {
     "iopub.execute_input": "2022-12-29T18:08:12.433173Z",
     "iopub.status.busy": "2022-12-29T18:08:12.430951Z",
     "iopub.status.idle": "2022-12-29T18:08:58.187215Z",
     "shell.execute_reply": "2022-12-29T18:08:58.185797Z"
    },
    "papermill": {
     "duration": 45.990489,
     "end_time": "2022-12-29T18:08:58.314596",
     "exception": false,
     "start_time": "2022-12-29T18:08:12.324107",
     "status": "completed"
    },
    "tags": []
   },
   "outputs": [],
   "source": [
    "plt.figure(figsize=(14,80))\n",
    "# sns.set_color_codes(\"dark\")\n",
    "y_corr = df_train_new.corr().loc[\"TARGET\"].sort_values(ascending=False).drop(\"TARGET\",axis = 0).dropna()\n",
    "\n",
    "ax = sns.barplot(y=y_corr.index.values, x=y_corr.values,\n",
    "            label=\"Correlation\", color=\"r\")\n",
    "\n",
    "\n",
    "# Add a legend and informative axis label\n",
    "ax.legend(ncol=2, loc=\"lower right\", frameon=True)\n",
    "ax.set(xlim=(-0.3, 0.3), ylabel=\"Column name\",\n",
    "       xlabel=\"Correlation\")\n",
    "sns.despine(left=True, bottom=True)"
   ]
  },
  {
   "cell_type": "code",
   "execution_count": null,
   "id": "8946d255",
   "metadata": {
    "execution": {
     "iopub.execute_input": "2022-12-29T18:08:58.534402Z",
     "iopub.status.busy": "2022-12-29T18:08:58.533987Z",
     "iopub.status.idle": "2022-12-29T18:08:58.621098Z",
     "shell.execute_reply": "2022-12-29T18:08:58.619880Z"
    },
    "papermill": {
     "duration": 0.199497,
     "end_time": "2022-12-29T18:08:58.623807",
     "exception": false,
     "start_time": "2022-12-29T18:08:58.424310",
     "status": "completed"
    },
    "tags": []
   },
   "outputs": [],
   "source": [
    "df_train_new"
   ]
  },
  {
   "cell_type": "code",
   "execution_count": null,
   "id": "04ec3350",
   "metadata": {
    "execution": {
     "iopub.execute_input": "2022-12-29T18:08:58.851261Z",
     "iopub.status.busy": "2022-12-29T18:08:58.850810Z",
     "iopub.status.idle": "2022-12-29T18:08:58.998181Z",
     "shell.execute_reply": "2022-12-29T18:08:58.996609Z"
    },
    "papermill": {
     "duration": 0.263668,
     "end_time": "2022-12-29T18:08:59.000744",
     "exception": false,
     "start_time": "2022-12-29T18:08:58.737076",
     "status": "completed"
    },
    "tags": []
   },
   "outputs": [],
   "source": [
    "df_train_new.isnull().sum()"
   ]
  },
  {
   "cell_type": "code",
   "execution_count": null,
   "id": "c2bae352",
   "metadata": {
    "execution": {
     "iopub.execute_input": "2022-12-29T18:08:59.225781Z",
     "iopub.status.busy": "2022-12-29T18:08:59.225303Z",
     "iopub.status.idle": "2022-12-29T18:09:01.590718Z",
     "shell.execute_reply": "2022-12-29T18:09:01.589319Z"
    },
    "papermill": {
     "duration": 2.482397,
     "end_time": "2022-12-29T18:09:01.593712",
     "exception": false,
     "start_time": "2022-12-29T18:08:59.111315",
     "status": "completed"
    },
    "tags": []
   },
   "outputs": [],
   "source": [
    "df_train_new = df_train_new.fillna(df_train_new.median())"
   ]
  },
  {
   "cell_type": "code",
   "execution_count": null,
   "id": "63140dd0",
   "metadata": {
    "execution": {
     "iopub.execute_input": "2022-12-29T18:09:01.819702Z",
     "iopub.status.busy": "2022-12-29T18:09:01.817587Z",
     "iopub.status.idle": "2022-12-29T18:09:07.450317Z",
     "shell.execute_reply": "2022-12-29T18:09:07.449178Z"
    },
    "papermill": {
     "duration": 5.749235,
     "end_time": "2022-12-29T18:09:07.453346",
     "exception": false,
     "start_time": "2022-12-29T18:09:01.704111",
     "status": "completed"
    },
    "tags": []
   },
   "outputs": [],
   "source": [
    "test_df2 = test(df_train_new)"
   ]
  },
  {
   "cell_type": "code",
   "execution_count": null,
   "id": "cfe93363",
   "metadata": {
    "execution": {
     "iopub.execute_input": "2022-12-29T18:09:07.674077Z",
     "iopub.status.busy": "2022-12-29T18:09:07.673156Z",
     "iopub.status.idle": "2022-12-29T18:09:07.688077Z",
     "shell.execute_reply": "2022-12-29T18:09:07.686726Z"
    },
    "papermill": {
     "duration": 0.127944,
     "end_time": "2022-12-29T18:09:07.690969",
     "exception": false,
     "start_time": "2022-12-29T18:09:07.563025",
     "status": "completed"
    },
    "tags": []
   },
   "outputs": [],
   "source": [
    "test_df2"
   ]
  },
  {
   "cell_type": "code",
   "execution_count": null,
   "id": "1febf7f4",
   "metadata": {
    "execution": {
     "iopub.execute_input": "2022-12-29T18:09:07.918685Z",
     "iopub.status.busy": "2022-12-29T18:09:07.918221Z",
     "iopub.status.idle": "2022-12-29T18:09:07.938583Z",
     "shell.execute_reply": "2022-12-29T18:09:07.937000Z"
    },
    "papermill": {
     "duration": 0.141657,
     "end_time": "2022-12-29T18:09:07.942246",
     "exception": false,
     "start_time": "2022-12-29T18:09:07.800589",
     "status": "completed"
    },
    "tags": []
   },
   "outputs": [],
   "source": [
    "test_df2.loc[(test_df2[\"normality\"] == 1) &(test_df2[\"homogeneity\"] == 1)]"
   ]
  },
  {
   "cell_type": "markdown",
   "id": "6ff400c5",
   "metadata": {
    "papermill": {
     "duration": 0.124046,
     "end_time": "2022-12-29T18:09:08.190210",
     "exception": false,
     "start_time": "2022-12-29T18:09:08.066164",
     "status": "completed"
    },
    "tags": []
   },
   "source": [
    "## Make t-test for the new Variables to see if they were independent from the TARGET"
   ]
  },
  {
   "cell_type": "code",
   "execution_count": null,
   "id": "df0b852f",
   "metadata": {
    "execution": {
     "iopub.execute_input": "2022-12-29T18:09:08.433063Z",
     "iopub.status.busy": "2022-12-29T18:09:08.431951Z",
     "iopub.status.idle": "2022-12-29T18:09:09.027000Z",
     "shell.execute_reply": "2022-12-29T18:09:09.025589Z"
    },
    "papermill": {
     "duration": 0.713517,
     "end_time": "2022-12-29T18:09:09.029855",
     "exception": false,
     "start_time": "2022-12-29T18:09:08.316338",
     "status": "completed"
    },
    "tags": []
   },
   "outputs": [],
   "source": [
    "acc, rej  = t_test(df_train_new,test_df2)"
   ]
  },
  {
   "cell_type": "code",
   "execution_count": null,
   "id": "0341f903",
   "metadata": {
    "execution": {
     "iopub.execute_input": "2022-12-29T18:09:09.258655Z",
     "iopub.status.busy": "2022-12-29T18:09:09.258176Z",
     "iopub.status.idle": "2022-12-29T18:09:09.267943Z",
     "shell.execute_reply": "2022-12-29T18:09:09.266736Z"
    },
    "papermill": {
     "duration": 0.127406,
     "end_time": "2022-12-29T18:09:09.271145",
     "exception": false,
     "start_time": "2022-12-29T18:09:09.143739",
     "status": "completed"
    },
    "tags": []
   },
   "outputs": [],
   "source": [
    "rej"
   ]
  },
  {
   "cell_type": "code",
   "execution_count": null,
   "id": "6218a42f",
   "metadata": {
    "papermill": {
     "duration": 0.112494,
     "end_time": "2022-12-29T18:09:09.496359",
     "exception": false,
     "start_time": "2022-12-29T18:09:09.383865",
     "status": "completed"
    },
    "tags": []
   },
   "outputs": [],
   "source": []
  },
  {
   "cell_type": "markdown",
   "id": "bca5f3fb",
   "metadata": {
    "papermill": {
     "duration": 0.114259,
     "end_time": "2022-12-29T18:09:09.721510",
     "exception": false,
     "start_time": "2022-12-29T18:09:09.607251",
     "status": "completed"
    },
    "tags": []
   },
   "source": [
    "## Merge The New Data and Features with the main Dataframes"
   ]
  },
  {
   "cell_type": "code",
   "execution_count": null,
   "id": "7e027d5d",
   "metadata": {
    "execution": {
     "iopub.execute_input": "2022-12-29T18:09:09.952385Z",
     "iopub.status.busy": "2022-12-29T18:09:09.951024Z",
     "iopub.status.idle": "2022-12-29T18:10:17.980789Z",
     "shell.execute_reply": "2022-12-29T18:10:17.979294Z"
    },
    "papermill": {
     "duration": 68.150695,
     "end_time": "2022-12-29T18:10:17.983586",
     "exception": false,
     "start_time": "2022-12-29T18:09:09.832891",
     "status": "completed"
    },
    "tags": []
   },
   "outputs": [],
   "source": [
    "df_test_new = pd.concat([df_test_new,df_test[\"SK_ID_CURR\"]],axis = 1)\n",
    "df_train_new = pd.concat([df_train,df_trainx[\"SK_ID_CURR\"]],axis = 1)\n",
    "\n",
    "df_train_2 = df_train_new.merge(bureau_bb(), how='left', on='SK_ID_CURR')\n",
    "df_test_2 = df_test_new.merge(bureau_bb(), how='left', on='SK_ID_CURR')\n",
    "\n",
    "print('--=> df after merge with bureau:', df_train.shape)\n",
    "print('--=> df_train_2 after merge with bureau:', df_train_2.shape)\n",
    "\n",
    "print('--=> df after merge with bureau:', df_test.shape)\n",
    "print('--=> df_test_2 after merge with bureau:', df_test_2.shape)"
   ]
  },
  {
   "cell_type": "code",
   "execution_count": null,
   "id": "61759663",
   "metadata": {
    "execution": {
     "iopub.execute_input": "2022-12-29T18:10:18.205594Z",
     "iopub.status.busy": "2022-12-29T18:10:18.204707Z",
     "iopub.status.idle": "2022-12-29T18:10:18.227189Z",
     "shell.execute_reply": "2022-12-29T18:10:18.225919Z"
    },
    "papermill": {
     "duration": 0.136393,
     "end_time": "2022-12-29T18:10:18.229812",
     "exception": false,
     "start_time": "2022-12-29T18:10:18.093419",
     "status": "completed"
    },
    "tags": []
   },
   "outputs": [],
   "source": [
    "df_train_2"
   ]
  },
  {
   "cell_type": "code",
   "execution_count": null,
   "id": "7b877e26",
   "metadata": {},
   "outputs": [],
   "source": [
    "df_train_2.dtypes.value_counts()"
   ]
  },
  {
   "cell_type": "code",
   "execution_count": null,
   "id": "3fba8c57",
   "metadata": {
    "papermill": {
     "duration": 0.111865,
     "end_time": "2022-12-29T18:10:18.452176",
     "exception": false,
     "start_time": "2022-12-29T18:10:18.340311",
     "status": "completed"
    },
    "tags": []
   },
   "outputs": [],
   "source": [
    "df_train_3= df_train_2.astype(float)\n"
   ]
  },
  {
   "cell_type": "code",
   "execution_count": null,
   "id": "9f466cc6",
   "metadata": {},
   "outputs": [],
   "source": [
    "df_train_3.replace([np.inf, -np.inf], 0, inplace=True)\n",
    "\n",
    "df_train_3"
   ]
  },
  {
   "cell_type": "code",
   "execution_count": null,
   "id": "596fbf37",
   "metadata": {},
   "outputs": [],
   "source": [
    "train_3 = SimpleImputer(strategy='median').fit_transform(df_train_3)"
   ]
  },
  {
   "cell_type": "code",
   "execution_count": null,
   "id": "920612dd",
   "metadata": {},
   "outputs": [],
   "source": [
    "train_3"
   ]
  },
  {
   "cell_type": "code",
   "execution_count": null,
   "id": "2eea2f24",
   "metadata": {},
   "outputs": [],
   "source": []
  },
  {
   "cell_type": "code",
   "execution_count": null,
   "id": "ce325556",
   "metadata": {},
   "outputs": [],
   "source": [
    "df_train_3=pd.DataFrame(train_3)\n",
    "df_train_3.columns=df_train_2.columns\n",
    "df_train_3"
   ]
  },
  {
   "cell_type": "code",
   "execution_count": null,
   "id": "5e605d56",
   "metadata": {},
   "outputs": [],
   "source": [
    "df_test_2"
   ]
  },
  {
   "cell_type": "markdown",
   "id": "f8bf8726",
   "metadata": {
    "papermill": {
     "duration": 0.110365,
     "end_time": "2022-12-29T18:10:18.672270",
     "exception": false,
     "start_time": "2022-12-29T18:10:18.561905",
     "status": "completed"
    },
    "tags": []
   },
   "source": [
    "### light GBM"
   ]
  },
  {
   "cell_type": "code",
   "execution_count": null,
   "id": "6e37615a",
   "metadata": {
    "execution": {
     "iopub.execute_input": "2022-12-29T18:10:18.895599Z",
     "iopub.status.busy": "2022-12-29T18:10:18.894286Z",
     "iopub.status.idle": "2022-12-29T18:10:19.951957Z",
     "shell.execute_reply": "2022-12-29T18:10:19.950091Z"
    },
    "papermill": {
     "duration": 1.174647,
     "end_time": "2022-12-29T18:10:19.956481",
     "exception": false,
     "start_time": "2022-12-29T18:10:18.781834",
     "status": "completed"
    },
    "tags": []
   },
   "outputs": [],
   "source": [
    "from lightgbm import LGBMClassifier\n",
    "from sklearn.metrics import roc_auc_score\n",
    "from sklearn.model_selection import KFold"
   ]
  },
  {
   "cell_type": "code",
   "execution_count": null,
   "id": "223e976c",
   "metadata": {},
   "outputs": [],
   "source": [
    "mlflow.lightgbm.autolog()  # Enable auto logging.\n"
   ]
  },
  {
   "cell_type": "code",
   "execution_count": null,
   "id": "0615bc94",
   "metadata": {
    "execution": {
     "iopub.execute_input": "2022-12-29T18:10:20.183381Z",
     "iopub.status.busy": "2022-12-29T18:10:20.182949Z",
     "iopub.status.idle": "2022-12-29T18:50:40.638274Z",
     "shell.execute_reply": "2022-12-29T18:50:40.636755Z"
    },
    "papermill": {
     "duration": 2420.689066,
     "end_time": "2022-12-29T18:50:40.758354",
     "exception": false,
     "start_time": "2022-12-29T18:10:20.069288",
     "status": "completed"
    },
    "tags": []
   },
   "outputs": [],
   "source": [
    "import re\n",
    "df_train = df_train_3.rename(columns = lambda x:re.sub('[^A-Za-z0-9_]+', '', x))\n",
    "\n",
    "df_test = df_test_2.rename(columns = lambda x:re.sub('[^A-Za-z0-9_]+', '', x))\n",
    "\n",
    "folds = KFold(n_splits=5, shuffle=True, random_state=2020)\n",
    "\n",
    "for n_fold, (train_idx, valid_idx) in enumerate(folds.split(df_train, train_labels)):\n",
    "        train_x, train_y = df_train.iloc[train_idx], train_labels.iloc[train_idx]\n",
    "        valid_x, valid_y = df_train.iloc[valid_idx], train_labels.iloc[valid_idx]\n",
    "        \n",
    "        clf = LGBMClassifier(nthread=-1,\n",
    "                            n_estimators=5000,\n",
    "                            learning_rate=0.01,\n",
    "                            max_depth=11,\n",
    "                            num_leaves=58,\n",
    "                            colsample_bytree=0.613,\n",
    "                            subsample=0.708,\n",
    "                            max_bin=407,\n",
    "                            reg_alpha=3.564,\n",
    "                            reg_lambda=4.930,\n",
    "                            min_child_weight=6,\n",
    "                            min_child_samples=165,\n",
    "                            silent=-1,\n",
    "                            verbose=-1,)\n",
    "\n",
    "        with mlflow.start_run():\n",
    "            clf.fit(train_x, train_y, eval_set=[(train_x, train_y), (valid_x, valid_y)], eval_metric='auc', verbose=500, early_stopping_rounds=500)\n",
    "        \n",
    "        # Create arrays and dataframes to store results\n",
    "        train_preds = np.zeros(df_train.shape[0])\n",
    "        test_preds = np.zeros(df_test.shape[0])\n",
    "        \n",
    "        train_preds[valid_idx] = clf.predict_proba(valid_x, num_iteration=clf.best_iteration_)[:, 1]\n",
    "        test_preds += clf.predict_proba(df_test, num_iteration=clf.best_iteration_)[:, 1] / folds.n_splits\n",
    "\n",
    "        print('Fold %2d AUC : %.6f' % (n_fold + 1, roc_auc_score(valid_y, train_preds[valid_idx])))\n",
    "\n",
    "\n",
    "print('Full AUC score %.6f' % roc_auc_score(df_imputed_new['TARGET'], train_preds))\n",
    "\n",
    "\n",
    "df_test['TARGET'] = test_preds\n"
   ]
  },
  {
   "cell_type": "code",
   "execution_count": null,
   "id": "30bc9f0c",
   "metadata": {},
   "outputs": [],
   "source": [
    "train_preds"
   ]
  },
  {
   "cell_type": "code",
   "execution_count": null,
   "id": "13220f82",
   "metadata": {
    "execution": {
     "iopub.execute_input": "2022-12-29T18:50:41.217701Z",
     "iopub.status.busy": "2022-12-29T18:50:41.216704Z",
     "iopub.status.idle": "2022-12-29T18:50:41.841845Z",
     "shell.execute_reply": "2022-12-29T18:50:41.840369Z"
    },
    "papermill": {
     "duration": 0.745207,
     "end_time": "2022-12-29T18:50:41.845304",
     "exception": false,
     "start_time": "2022-12-29T18:50:41.100097",
     "status": "completed"
    },
    "tags": []
   },
   "outputs": [],
   "source": [
    "df_test = pd.read_csv(\"Projet+Mise+en+prod+-+home-credit-default-risk/application_test.csv\")"
   ]
  },
  {
   "cell_type": "code",
   "execution_count": null,
   "id": "bf10218f",
   "metadata": {
    "execution": {
     "iopub.execute_input": "2022-12-29T18:50:42.072085Z",
     "iopub.status.busy": "2022-12-29T18:50:42.071626Z",
     "iopub.status.idle": "2022-12-29T18:50:42.215243Z",
     "shell.execute_reply": "2022-12-29T18:50:42.214089Z"
    },
    "papermill": {
     "duration": 0.260317,
     "end_time": "2022-12-29T18:50:42.217779",
     "exception": false,
     "start_time": "2022-12-29T18:50:41.957462",
     "status": "completed"
    },
    "tags": []
   },
   "outputs": [],
   "source": [
    "df_test['TARGET'] = test_preds\n",
    "df_test[['SK_ID_CURR', 'TARGET']].to_csv('submission.csv', index=False)\n",
    "df_test"
   ]
  },
  {
   "cell_type": "code",
   "execution_count": null,
   "id": "b9e08f5e",
   "metadata": {},
   "outputs": [],
   "source": [
    "df_train"
   ]
  },
  {
   "cell_type": "code",
   "execution_count": null,
   "id": "83633c08",
   "metadata": {},
   "outputs": [],
   "source": [
    "mlflow.end_run()"
   ]
  },
  {
   "cell_type": "code",
   "execution_count": null,
   "id": "fc1070d5",
   "metadata": {},
   "outputs": [],
   "source": [
    "train_x, train_y = df_train_3.iloc[train_idx], train_labels.iloc[train_idx]\n",
    "valid_x, valid_y = df_train_3.iloc[valid_idx], train_labels.iloc[valid_idx]"
   ]
  },
  {
   "cell_type": "code",
   "execution_count": null,
   "id": "4ad4a6a3",
   "metadata": {},
   "outputs": [],
   "source": [
    "train_x"
   ]
  },
  {
   "cell_type": "code",
   "execution_count": null,
   "id": "b25f84d0",
   "metadata": {},
   "outputs": [],
   "source": [
    "train_labels"
   ]
  },
  {
   "cell_type": "code",
   "execution_count": null,
   "id": "5dc139df",
   "metadata": {},
   "outputs": [],
   "source": [
    "train_preds_2=np.rint (train_preds)\n",
    "train_preds_2"
   ]
  },
  {
   "cell_type": "code",
   "execution_count": null,
   "id": "24670357",
   "metadata": {},
   "outputs": [],
   "source": [
    "for x in range(len(train_preds_2)):\n",
    "    if(train_preds_2[x]==1):\n",
    "        train_preds_2[x] = 0\n",
    "    else:\n",
    "        train_preds_2[x] = 1\n",
    "  "
   ]
  },
  {
   "cell_type": "code",
   "execution_count": null,
   "id": "484bcfdf",
   "metadata": {},
   "outputs": [],
   "source": [
    "f1_score(train_preds_2, train_labels)\n"
   ]
  },
  {
   "cell_type": "markdown",
   "id": "e1a5e807",
   "metadata": {
    "papermill": {
     "duration": 0.741094,
     "end_time": "2022-12-29T18:50:53.621797",
     "exception": false,
     "start_time": "2022-12-29T18:50:52.880703",
     "status": "completed"
    },
    "tags": []
   },
   "source": [
    "#  Oversampling\n"
   ]
  },
  {
   "cell_type": "code",
   "execution_count": null,
   "id": "c226a8d0",
   "metadata": {},
   "outputs": [],
   "source": [
    "sm=SMOTE(random_state=42)\n",
    "X_resampled, y_resampled=sm.fit_resample(train_x, train_y)"
   ]
  },
  {
   "cell_type": "code",
   "execution_count": null,
   "id": "f81c722a",
   "metadata": {
    "papermill": {
     "duration": 0.732654,
     "end_time": "2022-12-29T18:50:58.125930",
     "exception": false,
     "start_time": "2022-12-29T18:50:57.393276",
     "status": "completed"
    },
    "tags": []
   },
   "outputs": [],
   "source": [
    "X_resampled"
   ]
  },
  {
   "cell_type": "code",
   "execution_count": null,
   "id": "202d806c",
   "metadata": {},
   "outputs": [],
   "source": [
    "y_resampled"
   ]
  },
  {
   "cell_type": "code",
   "execution_count": null,
   "id": "1b9278a0",
   "metadata": {
    "papermill": {
     "duration": 0.731802,
     "end_time": "2022-12-29T18:50:59.611406",
     "exception": false,
     "start_time": "2022-12-29T18:50:58.879604",
     "status": "completed"
    },
    "tags": []
   },
   "outputs": [],
   "source": [
    "df_train = X_resampled.rename(columns = lambda x:re.sub('[^A-Za-z0-9_]+', '', x))\n",
    "\n",
    "df_test = df_test_2.rename(columns = lambda x:re.sub('[^A-Za-z0-9_]+', '', x))\n",
    "\n",
    "folds = KFold(n_splits=5, shuffle=True, random_state=2020)\n",
    "\n",
    "for n_fold, (train_idx, valid_idx) in enumerate(folds.split(df_train, y_resampled)):\n",
    "        train_x, train_y = df_train.iloc[train_idx], y_resampled.iloc[train_idx]\n",
    "        valid_x, valid_y = df_train.iloc[valid_idx], y_resampled.iloc[valid_idx]\n",
    "        \n",
    "        clf = LGBMClassifier(nthread=-1,\n",
    "                            n_estimators=5000,\n",
    "                            learning_rate=0.01,\n",
    "                            max_depth=11,\n",
    "                            num_leaves=58,\n",
    "                            colsample_bytree=0.613,\n",
    "                            subsample=0.708,\n",
    "                            max_bin=407,\n",
    "                            reg_alpha=3.564,\n",
    "                            reg_lambda=4.930,\n",
    "                            min_child_weight=6,\n",
    "                            min_child_samples=165,\n",
    "                            silent=-1,\n",
    "                            verbose=-1,)\n",
    "\n",
    "        with mlflow.start_run():\n",
    "            clf.fit(train_x, train_y, eval_set=[(train_x, train_y), (valid_x, valid_y)], eval_metric='auc', verbose=500, early_stopping_rounds=500)\n",
    "        \n",
    "        # Create arrays and dataframes to store results\n",
    "        train_preds = np.zeros(df_train.shape[0])\n",
    "        test_preds = np.zeros(df_test.shape[0])\n",
    "        \n",
    "        train_preds[valid_idx] = clf.predict_proba(valid_x, num_iteration=clf.best_iteration_)[:, 1]\n",
    "        test_preds += clf.predict_proba(df_test, num_iteration=clf.best_iteration_)[:, 1] / folds.n_splits\n",
    "\n",
    "        print('Fold %2d AUC : %.6f' % (n_fold + 1, roc_auc_score(valid_y, train_preds[valid_idx])))\n",
    "\n",
    "\n",
    "print('Full AUC score %.6f' % roc_auc_score(y_resampled, train_preds))\n",
    "\n",
    "\n",
    "df_test['TARGET'] = test_preds\n"
   ]
  },
  {
   "cell_type": "code",
   "execution_count": null,
   "id": "be35f520",
   "metadata": {},
   "outputs": [],
   "source": [
    "shap_values = shap.TreeExplainer(clf).shap_values(valid_x)"
   ]
  },
  {
   "cell_type": "code",
   "execution_count": null,
   "id": "4cac5b37",
   "metadata": {},
   "outputs": [],
   "source": [
    "shap.summary_plot(shap_values, valid_x)"
   ]
  },
  {
   "cell_type": "code",
   "execution_count": null,
   "id": "14c140fb",
   "metadata": {},
   "outputs": [],
   "source": [
    "pickle.dump(clf, open('model.pkl','wb'))"
   ]
  },
  {
   "cell_type": "code",
   "execution_count": null,
   "id": "d91e4fa7",
   "metadata": {},
   "outputs": [],
   "source": [
    "mlflow.end_run()"
   ]
  },
  {
   "cell_type": "code",
   "execution_count": null,
   "id": "c4e7584c",
   "metadata": {},
   "outputs": [],
   "source": [
    "X_resampled"
   ]
  },
  {
   "cell_type": "code",
   "execution_count": null,
   "id": "8f0e0c4c",
   "metadata": {},
   "outputs": [],
   "source": [
    "X_resampled['FLAG_OWN_CAR_N'].value_counts().idxmax()"
   ]
  },
  {
   "cell_type": "code",
   "execution_count": null,
   "id": "a9364bd4",
   "metadata": {},
   "outputs": [],
   "source": [
    "most_common=[]\n",
    "for i in X_resampled.columns:\n",
    "    most_common.append(X_resampled[i].value_counts().idxmax())\n",
    "    "
   ]
  },
  {
   "cell_type": "code",
   "execution_count": null,
   "id": "627fc311",
   "metadata": {},
   "outputs": [],
   "source": [
    "most_common_df=pd.DataFrame(most_common).T\n",
    "most_common_df.columns=X_resampled.columns\n",
    "most_common_df"
   ]
  },
  {
   "cell_type": "code",
   "execution_count": null,
   "id": "7bc2a4d0",
   "metadata": {},
   "outputs": [],
   "source": [
    "train_preds"
   ]
  },
  {
   "cell_type": "code",
   "execution_count": null,
   "id": "de16a3db",
   "metadata": {},
   "outputs": [],
   "source": [
    "y_resampled"
   ]
  },
  {
   "cell_type": "code",
   "execution_count": null,
   "id": "ce162329",
   "metadata": {},
   "outputs": [],
   "source": [
    "train_preds_2=np.rint (train_preds)\n",
    "train_preds_2"
   ]
  },
  {
   "cell_type": "code",
   "execution_count": null,
   "id": "006f1156",
   "metadata": {
    "papermill": {
     "duration": 0.736225,
     "end_time": "2022-12-29T18:51:05.474067",
     "exception": false,
     "start_time": "2022-12-29T18:51:04.737842",
     "status": "completed"
    },
    "tags": []
   },
   "outputs": [],
   "source": [
    "f1_score(train_preds_2, y_resampled)"
   ]
  },
  {
   "cell_type": "code",
   "execution_count": null,
   "id": "5b2c6641",
   "metadata": {
    "papermill": {
     "duration": 0.749051,
     "end_time": "2022-12-29T18:51:09.874559",
     "exception": false,
     "start_time": "2022-12-29T18:51:09.125508",
     "status": "completed"
    },
    "tags": []
   },
   "outputs": [],
   "source": []
  },
  {
   "cell_type": "code",
   "execution_count": null,
   "id": "a32d96e7",
   "metadata": {},
   "outputs": [],
   "source": []
  },
  {
   "cell_type": "code",
   "execution_count": null,
   "id": "260f8c2f",
   "metadata": {},
   "outputs": [],
   "source": []
  },
  {
   "cell_type": "code",
   "execution_count": null,
   "id": "74cb294b",
   "metadata": {},
   "outputs": [],
   "source": []
  }
 ],
 "metadata": {
  "kernelspec": {
   "display_name": "Python 3 (ipykernel)",
   "language": "python",
   "name": "python3"
  },
  "language_info": {
   "codemirror_mode": {
    "name": "ipython",
    "version": 3
   },
   "file_extension": ".py",
   "mimetype": "text/x-python",
   "name": "python",
   "nbconvert_exporter": "python",
   "pygments_lexer": "ipython3",
   "version": "3.9.16"
  },
  "papermill": {
   "default_parameters": {},
   "duration": 3017.160925,
   "end_time": "2022-12-29T18:51:13.886176",
   "environment_variables": {},
   "exception": null,
   "input_path": "__notebook__.ipynb",
   "output_path": "__notebook__.ipynb",
   "parameters": {},
   "start_time": "2022-12-29T18:00:56.725251",
   "version": "2.3.4"
  }
 },
 "nbformat": 4,
 "nbformat_minor": 5
}
